{
  "cells": [
    {
      "cell_type": "markdown",
      "id": "10b08119",
      "metadata": {
        "papermill": {
          "duration": 0.044672,
          "end_time": "2021-08-15T09:49:14.307397",
          "exception": false,
          "start_time": "2021-08-15T09:49:14.262725",
          "status": "completed"
        },
        "tags": [],
        "id": "10b08119"
      },
      "source": [
        "<h2 style=\"background-color:#166088;font-family:newtimeroman;font-size:250%;text-align:center;border-radius: 10px 10px;color:#dbe9ee\">Welcome</h2>\n",
        "\n",
        "<h4><center>This notebook is a simple sentiment analysis exercise. The aim is to have an introductory knowledge of NLP's \"Data Preprocessing\", \"Bag Of Words\" and \"Machine Learning\" steps</center></h4>"
      ]
    },
    {
      "cell_type": "markdown",
      "id": "6466bbdd",
      "metadata": {
        "papermill": {
          "duration": 0.041903,
          "end_time": "2021-08-15T09:49:14.391260",
          "exception": false,
          "start_time": "2021-08-15T09:49:14.349357",
          "status": "completed"
        },
        "tags": [],
        "id": "6466bbdd"
      },
      "source": [
        "<h2 style=\"background-color:#4F6D7A;font-family:newtimeroman;font-size:200%;text-align:left;border-radius: 7px 7px;color:#dbe9ee\">Table Of Contents</h2>\n",
        "\n",
        "* [Imports](#1)<br>\n",
        "\n",
        "\n",
        "* [Data Preprocessing](#2)\n",
        "    * [First Look](#16)\n",
        "    * [Dictation](#3)\n",
        "    * [Capitalization](#4)\n",
        "    * [Stop Words / Corpus / Stemmer](#5)\n",
        "    * [Implementation of all data](#6)<br>\n",
        "    \n",
        "\n",
        "    \n",
        "* [Bag Of Words](#7)\n",
        "    * [Count Vectorizer / Sparse Matrix](#8)\n",
        "    \n",
        "\n",
        "    \n",
        "* [Machine Learning: Classification](#10)\n",
        "    * [Naive Bayes](#11)\n",
        "    * [Neural Networks](#12)\n",
        "    * [XGBoost](#13)\n",
        "    * [CatBoost](#14)\n",
        "    \n",
        "\n",
        "    \n",
        "* [Conclusion](#17)\n"
      ]
    },
    {
      "cell_type": "markdown",
      "id": "80bc1e52",
      "metadata": {
        "papermill": {
          "duration": 0.053727,
          "end_time": "2021-08-15T09:49:14.495944",
          "exception": false,
          "start_time": "2021-08-15T09:49:14.442217",
          "status": "completed"
        },
        "tags": [],
        "id": "80bc1e52"
      },
      "source": [
        "<h3 style=\"background-color:#4F6D7A;font-family:newtimeroman;font-size:175%;text-align:left;border-radius: 5px 5px;color:#dbe9ee\">Imports</h3><a id=\"1\"></a>"
      ]
    },
    {
      "cell_type": "code",
      "source": [
        "!pip install catboost"
      ],
      "metadata": {
        "colab": {
          "base_uri": "https://localhost:8080/"
        },
        "id": "ytm_wifyWz20",
        "outputId": "2801995b-85ce-40b6-f1e2-c41a22d4db79"
      },
      "id": "ytm_wifyWz20",
      "execution_count": null,
      "outputs": [
        {
          "output_type": "stream",
          "name": "stdout",
          "text": [
            "Requirement already satisfied: catboost in /usr/local/lib/python3.10/dist-packages (1.2.2)\n",
            "Requirement already satisfied: graphviz in /usr/local/lib/python3.10/dist-packages (from catboost) (0.20.1)\n",
            "Requirement already satisfied: matplotlib in /usr/local/lib/python3.10/dist-packages (from catboost) (3.7.1)\n",
            "Requirement already satisfied: numpy>=1.16.0 in /usr/local/lib/python3.10/dist-packages (from catboost) (1.23.5)\n",
            "Requirement already satisfied: pandas>=0.24 in /usr/local/lib/python3.10/dist-packages (from catboost) (1.5.3)\n",
            "Requirement already satisfied: scipy in /usr/local/lib/python3.10/dist-packages (from catboost) (1.11.3)\n",
            "Requirement already satisfied: plotly in /usr/local/lib/python3.10/dist-packages (from catboost) (5.15.0)\n",
            "Requirement already satisfied: six in /usr/local/lib/python3.10/dist-packages (from catboost) (1.16.0)\n",
            "Requirement already satisfied: python-dateutil>=2.8.1 in /usr/local/lib/python3.10/dist-packages (from pandas>=0.24->catboost) (2.8.2)\n",
            "Requirement already satisfied: pytz>=2020.1 in /usr/local/lib/python3.10/dist-packages (from pandas>=0.24->catboost) (2023.3.post1)\n",
            "Requirement already satisfied: contourpy>=1.0.1 in /usr/local/lib/python3.10/dist-packages (from matplotlib->catboost) (1.2.0)\n",
            "Requirement already satisfied: cycler>=0.10 in /usr/local/lib/python3.10/dist-packages (from matplotlib->catboost) (0.12.1)\n",
            "Requirement already satisfied: fonttools>=4.22.0 in /usr/local/lib/python3.10/dist-packages (from matplotlib->catboost) (4.44.3)\n",
            "Requirement already satisfied: kiwisolver>=1.0.1 in /usr/local/lib/python3.10/dist-packages (from matplotlib->catboost) (1.4.5)\n",
            "Requirement already satisfied: packaging>=20.0 in /usr/local/lib/python3.10/dist-packages (from matplotlib->catboost) (23.2)\n",
            "Requirement already satisfied: pillow>=6.2.0 in /usr/local/lib/python3.10/dist-packages (from matplotlib->catboost) (9.4.0)\n",
            "Requirement already satisfied: pyparsing>=2.3.1 in /usr/local/lib/python3.10/dist-packages (from matplotlib->catboost) (3.1.1)\n",
            "Requirement already satisfied: tenacity>=6.2.0 in /usr/local/lib/python3.10/dist-packages (from plotly->catboost) (8.2.3)\n"
          ]
        }
      ]
    },
    {
      "cell_type": "code",
      "execution_count": null,
      "id": "2c2cd3f4",
      "metadata": {
        "execution": {
          "iopub.execute_input": "2021-08-15T09:49:14.583994Z",
          "iopub.status.busy": "2021-08-15T09:49:14.582927Z",
          "iopub.status.idle": "2021-08-15T09:49:16.741313Z",
          "shell.execute_reply": "2021-08-15T09:49:16.740509Z",
          "shell.execute_reply.started": "2021-08-15T09:44:36.543961Z"
        },
        "papermill": {
          "duration": 2.204206,
          "end_time": "2021-08-15T09:49:16.741482",
          "exception": false,
          "start_time": "2021-08-15T09:49:14.537276",
          "status": "completed"
        },
        "tags": [],
        "id": "2c2cd3f4"
      },
      "outputs": [],
      "source": [
        "import pandas as pd\n",
        "import numpy as np\n",
        "import seaborn as sns\n",
        "import re\n",
        "import nltk\n",
        "from nltk.stem.porter import PorterStemmer\n",
        "from nltk.corpus import stopwords\n",
        "from sklearn.feature_extraction.text import CountVectorizer\n",
        "from sklearn.model_selection import train_test_split,GridSearchCV\n",
        "from sklearn.metrics import confusion_matrix,accuracy_score,classification_report\n",
        "\n",
        "from sklearn.naive_bayes import BernoulliNB,GaussianNB,MultinomialNB\n",
        "from sklearn.neural_network import MLPClassifier\n",
        "from xgboost import XGBClassifier\n",
        "from catboost import CatBoostClassifier\n",
        "from sklearn.svm import SVC"
      ]
    },
    {
      "cell_type": "markdown",
      "id": "fbe351bc",
      "metadata": {
        "papermill": {
          "duration": 0.041268,
          "end_time": "2021-08-15T09:49:16.825807",
          "exception": false,
          "start_time": "2021-08-15T09:49:16.784539",
          "status": "completed"
        },
        "tags": [],
        "id": "fbe351bc"
      },
      "source": [
        "<h3 style=\"background-color:#4F6D7A;font-family:newtimeroman;font-size:175%;text-align:left;border-radius: 5px 5px;color:#dbe9ee\">Data Preprocessing</h3><a id=\"2\"></a>"
      ]
    },
    {
      "cell_type": "markdown",
      "id": "f2ea57ed",
      "metadata": {
        "papermill": {
          "duration": 0.04081,
          "end_time": "2021-08-15T09:49:16.908768",
          "exception": false,
          "start_time": "2021-08-15T09:49:16.867958",
          "status": "completed"
        },
        "tags": [],
        "id": "f2ea57ed"
      },
      "source": [
        "<h3 style=\"background-color:#4A6FA5;font-family:newtimeroman;font-size:150%;text-align:left;border-radius: 5px 5px;color:#dbe9ee\">First Look</h3><a id=\"16\"></a>\n",
        "\n"
      ]
    },
    {
      "cell_type": "code",
      "execution_count": null,
      "id": "4a0600e9",
      "metadata": {
        "execution": {
          "iopub.execute_input": "2021-08-15T09:49:16.996056Z",
          "iopub.status.busy": "2021-08-15T09:49:16.995398Z",
          "iopub.status.idle": "2021-08-15T09:49:17.023212Z",
          "shell.execute_reply": "2021-08-15T09:49:17.022670Z",
          "shell.execute_reply.started": "2021-08-15T09:13:57.088142Z"
        },
        "papermill": {
          "duration": 0.073623,
          "end_time": "2021-08-15T09:49:17.023369",
          "exception": false,
          "start_time": "2021-08-15T09:49:16.949746",
          "status": "completed"
        },
        "tags": [],
        "id": "4a0600e9"
      },
      "outputs": [],
      "source": [
        "df = pd.read_csv(\"Restaurant_Reviews.tsv\",delimiter=\"\\t\")"
      ]
    },
    {
      "cell_type": "code",
      "execution_count": null,
      "id": "282e5a60",
      "metadata": {
        "execution": {
          "iopub.execute_input": "2021-08-15T09:49:17.119010Z",
          "iopub.status.busy": "2021-08-15T09:49:17.118365Z",
          "iopub.status.idle": "2021-08-15T09:49:17.137132Z",
          "shell.execute_reply": "2021-08-15T09:49:17.136469Z",
          "shell.execute_reply.started": "2021-08-15T09:13:59.091639Z"
        },
        "papermill": {
          "duration": 0.07277,
          "end_time": "2021-08-15T09:49:17.137278",
          "exception": false,
          "start_time": "2021-08-15T09:49:17.064508",
          "status": "completed"
        },
        "tags": [],
        "colab": {
          "base_uri": "https://localhost:8080/",
          "height": 204
        },
        "id": "282e5a60",
        "outputId": "2cb5bc21-8f02-4f97-d749-e435dcb5fded"
      },
      "outputs": [
        {
          "output_type": "execute_result",
          "data": {
            "text/plain": [
              "                                              Review  Liked\n",
              "0                           Wow... Loved this place.      1\n",
              "1                                 Crust is not good.      0\n",
              "2          Not tasty and the texture was just nasty.      0\n",
              "3  Stopped by during the late May bank holiday of...      1\n",
              "4  The selection on the menu was great and so wer...      1"
            ],
            "text/html": [
              "\n",
              "  <div id=\"df-fe3b63c2-3307-44e8-9c1e-41c44033c624\" class=\"colab-df-container\">\n",
              "    <div>\n",
              "<style scoped>\n",
              "    .dataframe tbody tr th:only-of-type {\n",
              "        vertical-align: middle;\n",
              "    }\n",
              "\n",
              "    .dataframe tbody tr th {\n",
              "        vertical-align: top;\n",
              "    }\n",
              "\n",
              "    .dataframe thead th {\n",
              "        text-align: right;\n",
              "    }\n",
              "</style>\n",
              "<table border=\"1\" class=\"dataframe\">\n",
              "  <thead>\n",
              "    <tr style=\"text-align: right;\">\n",
              "      <th></th>\n",
              "      <th>Review</th>\n",
              "      <th>Liked</th>\n",
              "    </tr>\n",
              "  </thead>\n",
              "  <tbody>\n",
              "    <tr>\n",
              "      <th>0</th>\n",
              "      <td>Wow... Loved this place.</td>\n",
              "      <td>1</td>\n",
              "    </tr>\n",
              "    <tr>\n",
              "      <th>1</th>\n",
              "      <td>Crust is not good.</td>\n",
              "      <td>0</td>\n",
              "    </tr>\n",
              "    <tr>\n",
              "      <th>2</th>\n",
              "      <td>Not tasty and the texture was just nasty.</td>\n",
              "      <td>0</td>\n",
              "    </tr>\n",
              "    <tr>\n",
              "      <th>3</th>\n",
              "      <td>Stopped by during the late May bank holiday of...</td>\n",
              "      <td>1</td>\n",
              "    </tr>\n",
              "    <tr>\n",
              "      <th>4</th>\n",
              "      <td>The selection on the menu was great and so wer...</td>\n",
              "      <td>1</td>\n",
              "    </tr>\n",
              "  </tbody>\n",
              "</table>\n",
              "</div>\n",
              "    <div class=\"colab-df-buttons\">\n",
              "\n",
              "  <div class=\"colab-df-container\">\n",
              "    <button class=\"colab-df-convert\" onclick=\"convertToInteractive('df-fe3b63c2-3307-44e8-9c1e-41c44033c624')\"\n",
              "            title=\"Convert this dataframe to an interactive table.\"\n",
              "            style=\"display:none;\">\n",
              "\n",
              "  <svg xmlns=\"http://www.w3.org/2000/svg\" height=\"24px\" viewBox=\"0 -960 960 960\">\n",
              "    <path d=\"M120-120v-720h720v720H120Zm60-500h600v-160H180v160Zm220 220h160v-160H400v160Zm0 220h160v-160H400v160ZM180-400h160v-160H180v160Zm440 0h160v-160H620v160ZM180-180h160v-160H180v160Zm440 0h160v-160H620v160Z\"/>\n",
              "  </svg>\n",
              "    </button>\n",
              "\n",
              "  <style>\n",
              "    .colab-df-container {\n",
              "      display:flex;\n",
              "      gap: 12px;\n",
              "    }\n",
              "\n",
              "    .colab-df-convert {\n",
              "      background-color: #E8F0FE;\n",
              "      border: none;\n",
              "      border-radius: 50%;\n",
              "      cursor: pointer;\n",
              "      display: none;\n",
              "      fill: #1967D2;\n",
              "      height: 32px;\n",
              "      padding: 0 0 0 0;\n",
              "      width: 32px;\n",
              "    }\n",
              "\n",
              "    .colab-df-convert:hover {\n",
              "      background-color: #E2EBFA;\n",
              "      box-shadow: 0px 1px 2px rgba(60, 64, 67, 0.3), 0px 1px 3px 1px rgba(60, 64, 67, 0.15);\n",
              "      fill: #174EA6;\n",
              "    }\n",
              "\n",
              "    .colab-df-buttons div {\n",
              "      margin-bottom: 4px;\n",
              "    }\n",
              "\n",
              "    [theme=dark] .colab-df-convert {\n",
              "      background-color: #3B4455;\n",
              "      fill: #D2E3FC;\n",
              "    }\n",
              "\n",
              "    [theme=dark] .colab-df-convert:hover {\n",
              "      background-color: #434B5C;\n",
              "      box-shadow: 0px 1px 3px 1px rgba(0, 0, 0, 0.15);\n",
              "      filter: drop-shadow(0px 1px 2px rgba(0, 0, 0, 0.3));\n",
              "      fill: #FFFFFF;\n",
              "    }\n",
              "  </style>\n",
              "\n",
              "    <script>\n",
              "      const buttonEl =\n",
              "        document.querySelector('#df-fe3b63c2-3307-44e8-9c1e-41c44033c624 button.colab-df-convert');\n",
              "      buttonEl.style.display =\n",
              "        google.colab.kernel.accessAllowed ? 'block' : 'none';\n",
              "\n",
              "      async function convertToInteractive(key) {\n",
              "        const element = document.querySelector('#df-fe3b63c2-3307-44e8-9c1e-41c44033c624');\n",
              "        const dataTable =\n",
              "          await google.colab.kernel.invokeFunction('convertToInteractive',\n",
              "                                                    [key], {});\n",
              "        if (!dataTable) return;\n",
              "\n",
              "        const docLinkHtml = 'Like what you see? Visit the ' +\n",
              "          '<a target=\"_blank\" href=https://colab.research.google.com/notebooks/data_table.ipynb>data table notebook</a>'\n",
              "          + ' to learn more about interactive tables.';\n",
              "        element.innerHTML = '';\n",
              "        dataTable['output_type'] = 'display_data';\n",
              "        await google.colab.output.renderOutput(dataTable, element);\n",
              "        const docLink = document.createElement('div');\n",
              "        docLink.innerHTML = docLinkHtml;\n",
              "        element.appendChild(docLink);\n",
              "      }\n",
              "    </script>\n",
              "  </div>\n",
              "\n",
              "\n",
              "<div id=\"df-2d5253c9-6790-403f-9a42-19d6825264a0\">\n",
              "  <button class=\"colab-df-quickchart\" onclick=\"quickchart('df-2d5253c9-6790-403f-9a42-19d6825264a0')\"\n",
              "            title=\"Suggest charts\"\n",
              "            style=\"display:none;\">\n",
              "\n",
              "<svg xmlns=\"http://www.w3.org/2000/svg\" height=\"24px\"viewBox=\"0 0 24 24\"\n",
              "     width=\"24px\">\n",
              "    <g>\n",
              "        <path d=\"M19 3H5c-1.1 0-2 .9-2 2v14c0 1.1.9 2 2 2h14c1.1 0 2-.9 2-2V5c0-1.1-.9-2-2-2zM9 17H7v-7h2v7zm4 0h-2V7h2v10zm4 0h-2v-4h2v4z\"/>\n",
              "    </g>\n",
              "</svg>\n",
              "  </button>\n",
              "\n",
              "<style>\n",
              "  .colab-df-quickchart {\n",
              "      --bg-color: #E8F0FE;\n",
              "      --fill-color: #1967D2;\n",
              "      --hover-bg-color: #E2EBFA;\n",
              "      --hover-fill-color: #174EA6;\n",
              "      --disabled-fill-color: #AAA;\n",
              "      --disabled-bg-color: #DDD;\n",
              "  }\n",
              "\n",
              "  [theme=dark] .colab-df-quickchart {\n",
              "      --bg-color: #3B4455;\n",
              "      --fill-color: #D2E3FC;\n",
              "      --hover-bg-color: #434B5C;\n",
              "      --hover-fill-color: #FFFFFF;\n",
              "      --disabled-bg-color: #3B4455;\n",
              "      --disabled-fill-color: #666;\n",
              "  }\n",
              "\n",
              "  .colab-df-quickchart {\n",
              "    background-color: var(--bg-color);\n",
              "    border: none;\n",
              "    border-radius: 50%;\n",
              "    cursor: pointer;\n",
              "    display: none;\n",
              "    fill: var(--fill-color);\n",
              "    height: 32px;\n",
              "    padding: 0;\n",
              "    width: 32px;\n",
              "  }\n",
              "\n",
              "  .colab-df-quickchart:hover {\n",
              "    background-color: var(--hover-bg-color);\n",
              "    box-shadow: 0 1px 2px rgba(60, 64, 67, 0.3), 0 1px 3px 1px rgba(60, 64, 67, 0.15);\n",
              "    fill: var(--button-hover-fill-color);\n",
              "  }\n",
              "\n",
              "  .colab-df-quickchart-complete:disabled,\n",
              "  .colab-df-quickchart-complete:disabled:hover {\n",
              "    background-color: var(--disabled-bg-color);\n",
              "    fill: var(--disabled-fill-color);\n",
              "    box-shadow: none;\n",
              "  }\n",
              "\n",
              "  .colab-df-spinner {\n",
              "    border: 2px solid var(--fill-color);\n",
              "    border-color: transparent;\n",
              "    border-bottom-color: var(--fill-color);\n",
              "    animation:\n",
              "      spin 1s steps(1) infinite;\n",
              "  }\n",
              "\n",
              "  @keyframes spin {\n",
              "    0% {\n",
              "      border-color: transparent;\n",
              "      border-bottom-color: var(--fill-color);\n",
              "      border-left-color: var(--fill-color);\n",
              "    }\n",
              "    20% {\n",
              "      border-color: transparent;\n",
              "      border-left-color: var(--fill-color);\n",
              "      border-top-color: var(--fill-color);\n",
              "    }\n",
              "    30% {\n",
              "      border-color: transparent;\n",
              "      border-left-color: var(--fill-color);\n",
              "      border-top-color: var(--fill-color);\n",
              "      border-right-color: var(--fill-color);\n",
              "    }\n",
              "    40% {\n",
              "      border-color: transparent;\n",
              "      border-right-color: var(--fill-color);\n",
              "      border-top-color: var(--fill-color);\n",
              "    }\n",
              "    60% {\n",
              "      border-color: transparent;\n",
              "      border-right-color: var(--fill-color);\n",
              "    }\n",
              "    80% {\n",
              "      border-color: transparent;\n",
              "      border-right-color: var(--fill-color);\n",
              "      border-bottom-color: var(--fill-color);\n",
              "    }\n",
              "    90% {\n",
              "      border-color: transparent;\n",
              "      border-bottom-color: var(--fill-color);\n",
              "    }\n",
              "  }\n",
              "</style>\n",
              "\n",
              "  <script>\n",
              "    async function quickchart(key) {\n",
              "      const quickchartButtonEl =\n",
              "        document.querySelector('#' + key + ' button');\n",
              "      quickchartButtonEl.disabled = true;  // To prevent multiple clicks.\n",
              "      quickchartButtonEl.classList.add('colab-df-spinner');\n",
              "      try {\n",
              "        const charts = await google.colab.kernel.invokeFunction(\n",
              "            'suggestCharts', [key], {});\n",
              "      } catch (error) {\n",
              "        console.error('Error during call to suggestCharts:', error);\n",
              "      }\n",
              "      quickchartButtonEl.classList.remove('colab-df-spinner');\n",
              "      quickchartButtonEl.classList.add('colab-df-quickchart-complete');\n",
              "    }\n",
              "    (() => {\n",
              "      let quickchartButtonEl =\n",
              "        document.querySelector('#df-2d5253c9-6790-403f-9a42-19d6825264a0 button');\n",
              "      quickchartButtonEl.style.display =\n",
              "        google.colab.kernel.accessAllowed ? 'block' : 'none';\n",
              "    })();\n",
              "  </script>\n",
              "</div>\n",
              "    </div>\n",
              "  </div>\n"
            ]
          },
          "metadata": {},
          "execution_count": 160
        }
      ],
      "source": [
        "df.head()"
      ]
    },
    {
      "cell_type": "markdown",
      "id": "b617b2eb",
      "metadata": {
        "papermill": {
          "duration": 0.04189,
          "end_time": "2021-08-15T09:49:17.224154",
          "exception": false,
          "start_time": "2021-08-15T09:49:17.182264",
          "status": "completed"
        },
        "tags": [],
        "id": "b617b2eb"
      },
      "source": [
        "* There 2 columns,\n",
        "    * \"Review\" column shows reviews,<br>\n",
        "    * \"Liked\" column gives information about their positive or negative reviews"
      ]
    },
    {
      "cell_type": "code",
      "execution_count": null,
      "id": "97181069",
      "metadata": {
        "execution": {
          "iopub.execute_input": "2021-08-15T09:49:17.326175Z",
          "iopub.status.busy": "2021-08-15T09:49:17.325550Z",
          "iopub.status.idle": "2021-08-15T09:49:17.328847Z",
          "shell.execute_reply": "2021-08-15T09:49:17.328285Z",
          "shell.execute_reply.started": "2021-08-15T09:13:59.852154Z"
        },
        "papermill": {
          "duration": 0.063449,
          "end_time": "2021-08-15T09:49:17.328991",
          "exception": false,
          "start_time": "2021-08-15T09:49:17.265542",
          "status": "completed"
        },
        "tags": [],
        "colab": {
          "base_uri": "https://localhost:8080/"
        },
        "id": "97181069",
        "outputId": "d4ba6c58-1545-4423-f40e-0c638795dbc7"
      },
      "outputs": [
        {
          "output_type": "stream",
          "name": "stdout",
          "text": [
            "<class 'pandas.core.frame.DataFrame'>\n",
            "RangeIndex: 1000 entries, 0 to 999\n",
            "Data columns (total 2 columns):\n",
            " #   Column  Non-Null Count  Dtype \n",
            "---  ------  --------------  ----- \n",
            " 0   Review  1000 non-null   object\n",
            " 1   Liked   1000 non-null   int64 \n",
            "dtypes: int64(1), object(1)\n",
            "memory usage: 15.8+ KB\n"
          ]
        }
      ],
      "source": [
        "df.info()"
      ]
    },
    {
      "cell_type": "markdown",
      "id": "5996761b",
      "metadata": {
        "papermill": {
          "duration": 0.042336,
          "end_time": "2021-08-15T09:49:17.413172",
          "exception": false,
          "start_time": "2021-08-15T09:49:17.370836",
          "status": "completed"
        },
        "tags": [],
        "id": "5996761b"
      },
      "source": [
        "* Dtypes looks good and it's nice that there is no missing value."
      ]
    },
    {
      "cell_type": "code",
      "execution_count": null,
      "id": "ca460096",
      "metadata": {
        "execution": {
          "iopub.execute_input": "2021-08-15T09:49:17.503965Z",
          "iopub.status.busy": "2021-08-15T09:49:17.503119Z",
          "iopub.status.idle": "2021-08-15T09:49:17.648000Z",
          "shell.execute_reply": "2021-08-15T09:49:17.647385Z",
          "shell.execute_reply.started": "2021-08-15T09:14:01.120275Z"
        },
        "papermill": {
          "duration": 0.191925,
          "end_time": "2021-08-15T09:49:17.648156",
          "exception": false,
          "start_time": "2021-08-15T09:49:17.456231",
          "status": "completed"
        },
        "tags": [],
        "colab": {
          "base_uri": "https://localhost:8080/",
          "height": 449
        },
        "id": "ca460096",
        "outputId": "a3f427e5-90a8-44e4-f501-fd82c8e96d82"
      },
      "outputs": [
        {
          "output_type": "display_data",
          "data": {
            "text/plain": [
              "<Figure size 640x480 with 1 Axes>"
            ],
            "image/png": "[encoded data removed]"
          },
          "metadata": {}
        }
      ],
      "source": [
        "sns.countplot(x='Liked', data=df);"
      ]
    },
    {
      "cell_type": "markdown",
      "id": "9684d539",
      "metadata": {
        "papermill": {
          "duration": 0.042595,
          "end_time": "2021-08-15T09:49:17.733123",
          "exception": false,
          "start_time": "2021-08-15T09:49:17.690528",
          "status": "completed"
        },
        "tags": [],
        "id": "9684d539"
      },
      "source": [
        "* The distribution of the dependent variable is important for the models to be built. Otherwise, there may be bias. The distribution is fine in this dataset."
      ]
    },
    {
      "cell_type": "markdown",
      "id": "ffa31392",
      "metadata": {
        "papermill": {
          "duration": 0.043951,
          "end_time": "2021-08-15T09:49:17.821411",
          "exception": false,
          "start_time": "2021-08-15T09:49:17.777460",
          "status": "completed"
        },
        "tags": [],
        "id": "ffa31392"
      },
      "source": [
        "<h3 style=\"background-color:#4A6FA5;font-family:newtimeroman;font-size:150%;text-align:left;border-radius: 5px 5px;color:#dbe9ee\">Dictation</h3><a id=\"3\"></a>\n",
        "\n"
      ]
    },
    {
      "cell_type": "markdown",
      "id": "e050c970",
      "metadata": {
        "papermill": {
          "duration": 0.042416,
          "end_time": "2021-08-15T09:49:17.906454",
          "exception": false,
          "start_time": "2021-08-15T09:49:17.864038",
          "status": "completed"
        },
        "tags": [],
        "id": "e050c970"
      },
      "source": [
        "<h5>Firstly, let's select a row to understand how it works</h5>"
      ]
    },
    {
      "cell_type": "code",
      "execution_count": null,
      "id": "7e14616b",
      "metadata": {
        "execution": {
          "iopub.execute_input": "2021-08-15T09:49:17.998054Z",
          "iopub.status.busy": "2021-08-15T09:49:17.997341Z",
          "iopub.status.idle": "2021-08-15T09:49:18.000851Z",
          "shell.execute_reply": "2021-08-15T09:49:18.000264Z",
          "shell.execute_reply.started": "2021-08-15T09:14:04.125186Z"
        },
        "papermill": {
          "duration": 0.05139,
          "end_time": "2021-08-15T09:49:18.001002",
          "exception": false,
          "start_time": "2021-08-15T09:49:17.949612",
          "status": "completed"
        },
        "tags": [],
        "colab": {
          "base_uri": "https://localhost:8080/",
          "height": 35
        },
        "id": "7e14616b",
        "outputId": "7581c0e9-4e07-45bc-fd40-545216b99804"
      },
      "outputs": [
        {
          "output_type": "execute_result",
          "data": {
            "text/plain": [
              "'Wow... Loved this place.'"
            ],
            "application/vnd.google.colaboratory.intrinsic+json": {
              "type": "string"
            }
          },
          "metadata": {},
          "execution_count": 163
        }
      ],
      "source": [
        "# Selected first row.\n",
        "df[\"Review\"][0]"
      ]
    },
    {
      "cell_type": "markdown",
      "id": "7994c011",
      "metadata": {
        "papermill": {
          "duration": 0.043075,
          "end_time": "2021-08-15T09:49:18.087727",
          "exception": false,
          "start_time": "2021-08-15T09:49:18.044652",
          "status": "completed"
        },
        "tags": [],
        "id": "7994c011"
      },
      "source": [
        "* An accurate and successful data pre-processing is important for us to develop successful ML models. Therefore, we need to clean up the characters we do not want in the reviews (things that will reduce the success of the model) and create clean data.\n",
        "\n",
        "* Let's clear everything but words in our data (like punctuation)"
      ]
    },
    {
      "cell_type": "code",
      "execution_count": null,
      "id": "fb41a5a9",
      "metadata": {
        "execution": {
          "iopub.execute_input": "2021-08-15T09:49:18.179959Z",
          "iopub.status.busy": "2021-08-15T09:49:18.179070Z",
          "iopub.status.idle": "2021-08-15T09:49:18.183817Z",
          "shell.execute_reply": "2021-08-15T09:49:18.183222Z",
          "shell.execute_reply.started": "2021-08-15T09:14:04.543134Z"
        },
        "papermill": {
          "duration": 0.053554,
          "end_time": "2021-08-15T09:49:18.183953",
          "exception": false,
          "start_time": "2021-08-15T09:49:18.130399",
          "status": "completed"
        },
        "tags": [],
        "colab": {
          "base_uri": "https://localhost:8080/",
          "height": 35
        },
        "id": "fb41a5a9",
        "outputId": "129f4a0d-692e-4027-cf4d-64c9f2f6b3fc"
      },
      "outputs": [
        {
          "output_type": "execute_result",
          "data": {
            "text/plain": [
              "'Wow    Loved this place '"
            ],
            "application/vnd.google.colaboratory.intrinsic+json": {
              "type": "string"
            }
          },
          "metadata": {},
          "execution_count": 164
        }
      ],
      "source": [
        "review = re.sub(\"[^a-zA-Z]\",\" \",df[\"Review\"][0])\n",
        "review"
      ]
    },
    {
      "cell_type": "markdown",
      "id": "0cd583e2",
      "metadata": {
        "papermill": {
          "duration": 0.045222,
          "end_time": "2021-08-15T09:49:18.283947",
          "exception": false,
          "start_time": "2021-08-15T09:49:18.238725",
          "status": "completed"
        },
        "tags": [],
        "id": "0cd583e2"
      },
      "source": [
        "> re.sub(\"[^a-zA-Z]\",\" \",df[\"Review\"][0])\n",
        "\n",
        "* **It Means:** Replace all non-[a-zA-Z] values in df[\"Review\"][0] with \" \"\n",
        "    * Here, we use the expression \"^\" to mean \"non-[a-zA-Z]\" ie: [^a-zA-Z]. This is used to say the opposite in python"
      ]
    },
    {
      "cell_type": "code",
      "execution_count": null,
      "id": "ec7ea395",
      "metadata": {
        "execution": {
          "iopub.execute_input": "2021-08-15T09:49:18.376573Z",
          "iopub.status.busy": "2021-08-15T09:49:18.375915Z",
          "iopub.status.idle": "2021-08-15T09:49:18.379108Z",
          "shell.execute_reply": "2021-08-15T09:49:18.378360Z",
          "shell.execute_reply.started": "2021-08-15T09:14:04.995137Z"
        },
        "papermill": {
          "duration": 0.050571,
          "end_time": "2021-08-15T09:49:18.379274",
          "exception": false,
          "start_time": "2021-08-15T09:49:18.328703",
          "status": "completed"
        },
        "tags": [],
        "colab": {
          "base_uri": "https://localhost:8080/"
        },
        "id": "ec7ea395",
        "outputId": "82c92ac3-5a53-40f2-9d79-237519fdc0df"
      },
      "outputs": [
        {
          "output_type": "stream",
          "name": "stdout",
          "text": [
            "Unclean review: Wow... Loved this place. \n",
            "Clean review: Wow    Loved this place \n"
          ]
        }
      ],
      "source": [
        "print(f'Unclean review: {df[\"Review\"][0]} \\nClean review: {review}')"
      ]
    },
    {
      "cell_type": "markdown",
      "id": "c997eaa9",
      "metadata": {
        "papermill": {
          "duration": 0.043093,
          "end_time": "2021-08-15T09:49:18.466994",
          "exception": false,
          "start_time": "2021-08-15T09:49:18.423901",
          "status": "completed"
        },
        "tags": [],
        "id": "c997eaa9"
      },
      "source": [
        "<h3 style=\"background-color:#4A6FA5;font-family:newtimeroman;font-size:150%;text-align:left;border-radius: 5px 5px;color:#dbe9ee\">Capitalization</h3><a id=\"4\"></a>"
      ]
    },
    {
      "cell_type": "markdown",
      "id": "e0c00fcb",
      "metadata": {
        "papermill": {
          "duration": 0.043898,
          "end_time": "2021-08-15T09:49:18.556204",
          "exception": false,
          "start_time": "2021-08-15T09:49:18.512306",
          "status": "completed"
        },
        "tags": [],
        "id": "e0c00fcb"
      },
      "source": [
        "Capitalization isn't always a problem, and can sometimes contain important information for the feature.\n",
        "\n",
        "For Example;\n",
        "\n",
        "* i hate this product\n",
        "* i HATE this product\n",
        "\n",
        "We can think that these two sentences that are the same have different effects due to the use of capital letters.\n",
        "\n",
        "But for our case, we will make all the words lowercase to learn how to use"
      ]
    },
    {
      "cell_type": "code",
      "execution_count": null,
      "id": "b3e65100",
      "metadata": {
        "execution": {
          "iopub.execute_input": "2021-08-15T09:49:18.651647Z",
          "iopub.status.busy": "2021-08-15T09:49:18.651003Z",
          "iopub.status.idle": "2021-08-15T09:49:18.659297Z",
          "shell.execute_reply": "2021-08-15T09:49:18.658644Z",
          "shell.execute_reply.started": "2021-08-15T09:14:05.531398Z"
        },
        "papermill": {
          "duration": 0.056003,
          "end_time": "2021-08-15T09:49:18.659566",
          "exception": false,
          "start_time": "2021-08-15T09:49:18.603563",
          "status": "completed"
        },
        "tags": [],
        "colab": {
          "base_uri": "https://localhost:8080/",
          "height": 35
        },
        "id": "b3e65100",
        "outputId": "05e7c7ce-4a9e-4485-ae71-427161b5be4b"
      },
      "outputs": [
        {
          "output_type": "execute_result",
          "data": {
            "text/plain": [
              "'Wow    Loved this place '"
            ],
            "application/vnd.google.colaboratory.intrinsic+json": {
              "type": "string"
            }
          },
          "metadata": {},
          "execution_count": 166
        }
      ],
      "source": [
        "# remember review\n",
        "review"
      ]
    },
    {
      "cell_type": "code",
      "execution_count": null,
      "id": "c7b33fa9",
      "metadata": {
        "execution": {
          "iopub.execute_input": "2021-08-15T09:49:18.753776Z",
          "iopub.status.busy": "2021-08-15T09:49:18.753033Z",
          "iopub.status.idle": "2021-08-15T09:49:18.758080Z",
          "shell.execute_reply": "2021-08-15T09:49:18.757483Z",
          "shell.execute_reply.started": "2021-08-15T09:14:05.735145Z"
        },
        "papermill": {
          "duration": 0.054532,
          "end_time": "2021-08-15T09:49:18.758241",
          "exception": false,
          "start_time": "2021-08-15T09:49:18.703709",
          "status": "completed"
        },
        "tags": [],
        "colab": {
          "base_uri": "https://localhost:8080/"
        },
        "id": "c7b33fa9",
        "outputId": "221bd7d4-426d-4e63-92a3-af8e746f30da"
      },
      "outputs": [
        {
          "output_type": "execute_result",
          "data": {
            "text/plain": [
              "str"
            ]
          },
          "metadata": {},
          "execution_count": 167
        }
      ],
      "source": [
        "# let's check review's data-type\n",
        "type(review)"
      ]
    },
    {
      "cell_type": "code",
      "execution_count": null,
      "id": "f13c30c6",
      "metadata": {
        "execution": {
          "iopub.execute_input": "2021-08-15T09:49:18.853077Z",
          "iopub.status.busy": "2021-08-15T09:49:18.852057Z",
          "iopub.status.idle": "2021-08-15T09:49:18.855058Z",
          "shell.execute_reply": "2021-08-15T09:49:18.854535Z",
          "shell.execute_reply.started": "2021-08-15T09:14:05.956236Z"
        },
        "papermill": {
          "duration": 0.052044,
          "end_time": "2021-08-15T09:49:18.855227",
          "exception": false,
          "start_time": "2021-08-15T09:49:18.803183",
          "status": "completed"
        },
        "tags": [],
        "id": "f13c30c6"
      },
      "outputs": [],
      "source": [
        "# if review is a string-type, we can use string methods\n",
        "review = review.lower()"
      ]
    },
    {
      "cell_type": "code",
      "execution_count": null,
      "id": "ae314e6e",
      "metadata": {
        "execution": {
          "iopub.execute_input": "2021-08-15T09:49:18.947824Z",
          "iopub.status.busy": "2021-08-15T09:49:18.946954Z",
          "iopub.status.idle": "2021-08-15T09:49:18.952635Z",
          "shell.execute_reply": "2021-08-15T09:49:18.953193Z",
          "shell.execute_reply.started": "2021-08-15T09:14:06.168064Z"
        },
        "papermill": {
          "duration": 0.053124,
          "end_time": "2021-08-15T09:49:18.953425",
          "exception": false,
          "start_time": "2021-08-15T09:49:18.900301",
          "status": "completed"
        },
        "tags": [],
        "colab": {
          "base_uri": "https://localhost:8080/",
          "height": 35
        },
        "id": "ae314e6e",
        "outputId": "3d83568e-f870-4341-bf20-600b588db994"
      },
      "outputs": [
        {
          "output_type": "execute_result",
          "data": {
            "text/plain": [
              "'wow    loved this place '"
            ],
            "application/vnd.google.colaboratory.intrinsic+json": {
              "type": "string"
            }
          },
          "metadata": {},
          "execution_count": 169
        }
      ],
      "source": [
        "# let's check\n",
        "review"
      ]
    },
    {
      "cell_type": "markdown",
      "id": "bf65da27",
      "metadata": {
        "papermill": {
          "duration": 0.046289,
          "end_time": "2021-08-15T09:49:19.046975",
          "exception": false,
          "start_time": "2021-08-15T09:49:19.000686",
          "status": "completed"
        },
        "tags": [],
        "id": "bf65da27"
      },
      "source": [
        "<h3 style=\"background-color:#4A6FA5;font-family:newtimeroman;font-size:150%;text-align:left;border-radius: 5px 5px;color:#dbe9ee\">Stop Words / Corpus / Stemmer</h3><a id=\"5\"></a>"
      ]
    },
    {
      "cell_type": "markdown",
      "id": "11e8a17e",
      "metadata": {
        "papermill": {
          "duration": 0.048926,
          "end_time": "2021-08-15T09:49:19.142217",
          "exception": false,
          "start_time": "2021-08-15T09:49:19.093291",
          "status": "completed"
        },
        "tags": [],
        "id": "11e8a17e"
      },
      "source": [
        "Removing stop words is important to create clean data. The reason for this is to better understand the value implied by the comment.\n",
        "\n",
        "For Example;\n",
        "\n",
        "* \"i like this product\"\n",
        "\n",
        "When you remove the stop words from the sentence, it becomes \"like product\". and although these two sentences have the same meaning, the sentence without a stopword is a cleaner data"
      ]
    },
    {
      "cell_type": "code",
      "execution_count": null,
      "id": "ba9ed91d",
      "metadata": {
        "execution": {
          "iopub.execute_input": "2021-08-15T09:49:19.240809Z",
          "iopub.status.busy": "2021-08-15T09:49:19.240215Z",
          "iopub.status.idle": "2021-08-15T09:49:19.517453Z",
          "shell.execute_reply": "2021-08-15T09:49:19.516408Z",
          "shell.execute_reply.started": "2021-08-15T09:14:06.788110Z"
        },
        "papermill": {
          "duration": 0.327977,
          "end_time": "2021-08-15T09:49:19.517629",
          "exception": false,
          "start_time": "2021-08-15T09:49:19.189652",
          "status": "completed"
        },
        "tags": [],
        "colab": {
          "base_uri": "https://localhost:8080/"
        },
        "id": "ba9ed91d",
        "outputId": "c60467af-9475-4485-f1be-4f1b39fdf8ae"
      },
      "outputs": [
        {
          "output_type": "stream",
          "name": "stderr",
          "text": [
            "[nltk_data] Downloading package stopwords to /root/nltk_data...\n",
            "[nltk_data]   Package stopwords is already up-to-date!\n"
          ]
        },
        {
          "output_type": "execute_result",
          "data": {
            "text/plain": [
              "True"
            ]
          },
          "metadata": {},
          "execution_count": 170
        }
      ],
      "source": [
        "# We can download stopwords;\n",
        "nltk.download(\"stopwords\")"
      ]
    },
    {
      "cell_type": "markdown",
      "id": "0dd1a817",
      "metadata": {
        "papermill": {
          "duration": 0.046454,
          "end_time": "2021-08-15T09:49:19.609666",
          "exception": false,
          "start_time": "2021-08-15T09:49:19.563212",
          "status": "completed"
        },
        "tags": [],
        "id": "0dd1a817"
      },
      "source": [
        "Another important issue for clean data is to find the root of the word.\n",
        "\n",
        "If we take the root of the word \"liked\", which is the verb of the sentence \"I liked this product\", it becomes \"like\" and it makes the data clean even if it doesn't change anything semantically\n",
        "\n"
      ]
    },
    {
      "cell_type": "code",
      "execution_count": null,
      "id": "9a06c113",
      "metadata": {
        "execution": {
          "iopub.execute_input": "2021-08-15T09:49:19.707553Z",
          "iopub.status.busy": "2021-08-15T09:49:19.706916Z",
          "iopub.status.idle": "2021-08-15T09:49:19.709732Z",
          "shell.execute_reply": "2021-08-15T09:49:19.710245Z",
          "shell.execute_reply.started": "2021-08-15T09:14:07.206067Z"
        },
        "papermill": {
          "duration": 0.05574,
          "end_time": "2021-08-15T09:49:19.710421",
          "exception": false,
          "start_time": "2021-08-15T09:49:19.654681",
          "status": "completed"
        },
        "tags": [],
        "colab": {
          "base_uri": "https://localhost:8080/"
        },
        "id": "9a06c113",
        "outputId": "27845a0b-8c3d-41cc-826a-e7665afed0a5"
      },
      "outputs": [
        {
          "output_type": "execute_result",
          "data": {
            "text/plain": [
              "['wow', 'loved', 'this', 'place']"
            ]
          },
          "metadata": {},
          "execution_count": 171
        }
      ],
      "source": [
        "# We are preparing our data for the process we will do\n",
        "# by converting the string review variable into a list.\n",
        "review = review.split()\n",
        "review"
      ]
    },
    {
      "cell_type": "code",
      "execution_count": null,
      "id": "48c8853e",
      "metadata": {
        "execution": {
          "iopub.execute_input": "2021-08-15T09:49:19.805176Z",
          "iopub.status.busy": "2021-08-15T09:49:19.804560Z",
          "iopub.status.idle": "2021-08-15T09:49:19.813269Z",
          "shell.execute_reply": "2021-08-15T09:49:19.812579Z",
          "shell.execute_reply.started": "2021-08-15T09:14:07.403105Z"
        },
        "papermill": {
          "duration": 0.057354,
          "end_time": "2021-08-15T09:49:19.813430",
          "exception": false,
          "start_time": "2021-08-15T09:49:19.756076",
          "status": "completed"
        },
        "tags": [],
        "id": "48c8853e"
      },
      "outputs": [],
      "source": [
        "ps = PorterStemmer()\n",
        "review = [ps.stem(word) for word in review if not word in set(stopwords.words(\"english\"))]"
      ]
    },
    {
      "cell_type": "markdown",
      "id": "67f3c266",
      "metadata": {
        "papermill": {
          "duration": 0.046652,
          "end_time": "2021-08-15T09:49:19.906516",
          "exception": false,
          "start_time": "2021-08-15T09:49:19.859864",
          "status": "completed"
        },
        "tags": [],
        "id": "67f3c266"
      },
      "source": [
        "* **It means:** It creates a new list called review and there is no stop word in it. It also takes root words."
      ]
    },
    {
      "cell_type": "code",
      "execution_count": null,
      "id": "38ee7029",
      "metadata": {
        "execution": {
          "iopub.execute_input": "2021-08-15T09:49:20.002746Z",
          "iopub.status.busy": "2021-08-15T09:49:20.002107Z",
          "iopub.status.idle": "2021-08-15T09:49:20.005966Z",
          "shell.execute_reply": "2021-08-15T09:49:20.005497Z",
          "shell.execute_reply.started": "2021-08-15T09:14:07.747222Z"
        },
        "papermill": {
          "duration": 0.054157,
          "end_time": "2021-08-15T09:49:20.006109",
          "exception": false,
          "start_time": "2021-08-15T09:49:19.951952",
          "status": "completed"
        },
        "tags": [],
        "colab": {
          "base_uri": "https://localhost:8080/"
        },
        "id": "38ee7029",
        "outputId": "8965c778-2755-4f56-b1fc-3f74e4ea1aad"
      },
      "outputs": [
        {
          "output_type": "execute_result",
          "data": {
            "text/plain": [
              "['wow', 'love', 'place']"
            ]
          },
          "metadata": {},
          "execution_count": 173
        }
      ],
      "source": [
        "review"
      ]
    },
    {
      "cell_type": "code",
      "execution_count": null,
      "id": "4a87e9b0",
      "metadata": {
        "execution": {
          "iopub.execute_input": "2021-08-15T09:49:20.101384Z",
          "iopub.status.busy": "2021-08-15T09:49:20.100781Z",
          "iopub.status.idle": "2021-08-15T09:49:20.105848Z",
          "shell.execute_reply": "2021-08-15T09:49:20.106291Z",
          "shell.execute_reply.started": "2021-08-15T09:14:07.971187Z"
        },
        "papermill": {
          "duration": 0.0543,
          "end_time": "2021-08-15T09:49:20.106457",
          "exception": false,
          "start_time": "2021-08-15T09:49:20.052157",
          "status": "completed"
        },
        "tags": [],
        "colab": {
          "base_uri": "https://localhost:8080/"
        },
        "id": "4a87e9b0",
        "outputId": "15fc13ba-5db0-4b88-a45b-305e343e6635"
      },
      "outputs": [
        {
          "output_type": "stream",
          "name": "stdout",
          "text": [
            "\n",
            "unprocessed data: Wow... Loved this place.\n",
            "preprocessed data: wow love place\n",
            "\n"
          ]
        }
      ],
      "source": [
        "print(f\"\"\"\n",
        "unprocessed data: {df[\"Review\"][0]}\n",
        "preprocessed data: {\" \".join(review)}\n",
        "\"\"\")"
      ]
    },
    {
      "cell_type": "markdown",
      "id": "1e08c764",
      "metadata": {
        "papermill": {
          "duration": 0.046848,
          "end_time": "2021-08-15T09:49:20.198632",
          "exception": false,
          "start_time": "2021-08-15T09:49:20.151784",
          "status": "completed"
        },
        "tags": [],
        "id": "1e08c764"
      },
      "source": [
        "* Although as you can see there is no semantic difference, the review looks cleaner now"
      ]
    },
    {
      "cell_type": "markdown",
      "id": "9d4af4ce",
      "metadata": {
        "papermill": {
          "duration": 0.046641,
          "end_time": "2021-08-15T09:49:20.293416",
          "exception": false,
          "start_time": "2021-08-15T09:49:20.246775",
          "status": "completed"
        },
        "tags": [],
        "id": "9d4af4ce"
      },
      "source": [
        "<h3 style=\"background-color:#4A6FA5;font-family:newtimeroman;font-size:150%;text-align:left;border-radius: 5px 5px;color:#dbe9ee\">Implementation of all data</h3><a id=\"6\"></a>"
      ]
    },
    {
      "cell_type": "markdown",
      "id": "566a3d3f",
      "metadata": {
        "papermill": {
          "duration": 0.045936,
          "end_time": "2021-08-15T09:49:20.386239",
          "exception": false,
          "start_time": "2021-08-15T09:49:20.340303",
          "status": "completed"
        },
        "tags": [],
        "id": "566a3d3f"
      },
      "source": [
        "Now that we have explained what we want to do through a single review, we can now preprocess the entire dataset."
      ]
    },
    {
      "cell_type": "code",
      "execution_count": null,
      "id": "c8a34781",
      "metadata": {
        "execution": {
          "iopub.execute_input": "2021-08-15T09:49:20.486487Z",
          "iopub.status.busy": "2021-08-15T09:49:20.485771Z",
          "iopub.status.idle": "2021-08-15T09:49:22.199296Z",
          "shell.execute_reply": "2021-08-15T09:49:22.198576Z",
          "shell.execute_reply.started": "2021-08-15T09:14:08.798632Z"
        },
        "papermill": {
          "duration": 1.764924,
          "end_time": "2021-08-15T09:49:22.199588",
          "exception": false,
          "start_time": "2021-08-15T09:49:20.434664",
          "status": "completed"
        },
        "tags": [],
        "id": "c8a34781"
      },
      "outputs": [],
      "source": [
        "reviews = []\n",
        "for i in range(len(df)):\n",
        "    review = re.sub(\"[^a-zA-Z]\",\" \",df[\"Review\"][i])\n",
        "    review = review.lower()\n",
        "    review = review.split()\n",
        "    review = [ps.stem(word) for word in review if not word in str(stopwords.words(\"english\"))]\n",
        "    reviews.append(\" \".join(review))"
      ]
    },
    {
      "cell_type": "code",
      "execution_count": null,
      "id": "7c4bb3b6",
      "metadata": {
        "execution": {
          "iopub.execute_input": "2021-08-15T09:49:22.303240Z",
          "iopub.status.busy": "2021-08-15T09:49:22.302584Z",
          "iopub.status.idle": "2021-08-15T09:49:22.305674Z",
          "shell.execute_reply": "2021-08-15T09:49:22.306178Z",
          "shell.execute_reply.started": "2021-08-15T09:14:10.716561Z"
        },
        "papermill": {
          "duration": 0.05908,
          "end_time": "2021-08-15T09:49:22.306364",
          "exception": false,
          "start_time": "2021-08-15T09:49:22.247284",
          "status": "completed"
        },
        "tags": [],
        "colab": {
          "base_uri": "https://localhost:8080/"
        },
        "id": "7c4bb3b6",
        "outputId": "01fdc0bf-d8df-4982-abde-328ff8bcd81d"
      },
      "outputs": [
        {
          "output_type": "execute_result",
          "data": {
            "text/plain": [
              "['wow love place',\n",
              " 'crust good',\n",
              " 'tasti textur nasti',\n",
              " 'stop late may bank holiday rick steve recommend love']"
            ]
          },
          "metadata": {},
          "execution_count": 176
        }
      ],
      "source": [
        "reviews[:4]"
      ]
    },
    {
      "cell_type": "markdown",
      "id": "3ab209f7",
      "metadata": {
        "papermill": {
          "duration": 0.051099,
          "end_time": "2021-08-15T09:49:22.406036",
          "exception": false,
          "start_time": "2021-08-15T09:49:22.354937",
          "status": "completed"
        },
        "tags": [],
        "id": "3ab209f7"
      },
      "source": [
        "Up to the present;\n",
        "\n",
        "* We cleaned reviews from unnecessary characters\n",
        "* We have rooted the sentences\n",
        "\n",
        "But; This does not mean that all our data is clean. Although it depends on the dataset, maybe dozens of more cleaning operations could be done even in this dataset. This notebook will not also mention all the details"
      ]
    },
    {
      "cell_type": "markdown",
      "id": "c6e5826c",
      "metadata": {
        "papermill": {
          "duration": 0.047865,
          "end_time": "2021-08-15T09:49:22.503672",
          "exception": false,
          "start_time": "2021-08-15T09:49:22.455807",
          "status": "completed"
        },
        "tags": [],
        "id": "c6e5826c"
      },
      "source": [
        "<h3 style=\"background-color:#4F6D7A;font-family:newtimeroman;font-size:175%;text-align:left;border-radius: 5px 5px;color:#dbe9ee\">Bag Of Words</h3><a id=\"7\"></a>"
      ]
    },
    {
      "cell_type": "markdown",
      "id": "0bef0a12",
      "metadata": {
        "papermill": {
          "duration": 0.051391,
          "end_time": "2021-08-15T09:49:22.607686",
          "exception": false,
          "start_time": "2021-08-15T09:49:22.556295",
          "status": "completed"
        },
        "tags": [],
        "id": "0bef0a12"
      },
      "source": [
        "We have finished the data preprocessing phase. The current stage is: \"Bag Of Words\""
      ]
    },
    {
      "cell_type": "markdown",
      "id": "4f49daa3",
      "metadata": {
        "papermill": {
          "duration": 0.048314,
          "end_time": "2021-08-15T09:49:22.702297",
          "exception": false,
          "start_time": "2021-08-15T09:49:22.653983",
          "status": "completed"
        },
        "tags": [],
        "id": "4f49daa3"
      },
      "source": [
        "<h3 style=\"background-color:#4A6FA5;font-family:newtimeroman;font-size:150%;text-align:left;border-radius: 5px 5px;color:#dbe9ee\">Count Vectorizer / Sparse Matrix</h3><a id=\"8\"></a>"
      ]
    },
    {
      "cell_type": "markdown",
      "id": "b5790160",
      "metadata": {
        "papermill": {
          "duration": 0.049432,
          "end_time": "2021-08-15T09:49:22.798636",
          "exception": false,
          "start_time": "2021-08-15T09:49:22.749204",
          "status": "completed"
        },
        "tags": [],
        "id": "b5790160"
      },
      "source": [
        "With \"Count Vectorizer\" we will create Sparse Matrix of reviews"
      ]
    },
    {
      "cell_type": "code",
      "execution_count": null,
      "id": "7272afff",
      "metadata": {
        "execution": {
          "iopub.execute_input": "2021-08-15T09:49:22.900827Z",
          "iopub.status.busy": "2021-08-15T09:49:22.900221Z",
          "iopub.status.idle": "2021-08-15T09:49:22.904670Z",
          "shell.execute_reply": "2021-08-15T09:49:22.905131Z",
          "shell.execute_reply.started": "2021-08-15T09:14:10.724718Z"
        },
        "papermill": {
          "duration": 0.058036,
          "end_time": "2021-08-15T09:49:22.905326",
          "exception": false,
          "start_time": "2021-08-15T09:49:22.847290",
          "status": "completed"
        },
        "tags": [],
        "id": "7272afff"
      },
      "outputs": [],
      "source": [
        "cv = CountVectorizer(max_features = 1500)\n",
        "X = cv.fit_transform(reviews).toarray()\n",
        "vocab = cv.vocabulary_"
      ]
    },
    {
      "cell_type": "code",
      "execution_count": null,
      "id": "346dd3dd",
      "metadata": {
        "execution": {
          "iopub.execute_input": "2021-08-15T09:49:23.014588Z",
          "iopub.status.busy": "2021-08-15T09:49:23.013880Z",
          "iopub.status.idle": "2021-08-15T09:49:23.029892Z",
          "shell.execute_reply": "2021-08-15T09:49:23.029385Z",
          "shell.execute_reply.started": "2021-08-15T09:14:10.735432Z"
        },
        "papermill": {
          "duration": 0.076195,
          "end_time": "2021-08-15T09:49:23.030038",
          "exception": false,
          "start_time": "2021-08-15T09:49:22.953843",
          "status": "completed"
        },
        "tags": [],
        "id": "346dd3dd"
      },
      "outputs": [],
      "source": [
        "# Select undependent variables and converting to array\n"
      ]
    },
    {
      "cell_type": "code",
      "execution_count": null,
      "id": "7adacac1",
      "metadata": {
        "execution": {
          "iopub.execute_input": "2021-08-15T09:49:23.134500Z",
          "iopub.status.busy": "2021-08-15T09:49:23.133793Z",
          "iopub.status.idle": "2021-08-15T09:49:23.136933Z",
          "shell.execute_reply": "2021-08-15T09:49:23.137523Z",
          "shell.execute_reply.started": "2021-08-15T09:14:10.765345Z"
        },
        "papermill": {
          "duration": 0.056351,
          "end_time": "2021-08-15T09:49:23.137703",
          "exception": false,
          "start_time": "2021-08-15T09:49:23.081352",
          "status": "completed"
        },
        "tags": [],
        "colab": {
          "base_uri": "https://localhost:8080/"
        },
        "id": "7adacac1",
        "outputId": "9e2a7f2c-056f-40f7-9a2a-92a2a66651bb"
      },
      "outputs": [
        {
          "output_type": "execute_result",
          "data": {
            "text/plain": [
              "array([[0, 0, 0, ..., 0, 0, 0],\n",
              "       [0, 0, 0, ..., 0, 0, 0],\n",
              "       [0, 0, 0, ..., 0, 0, 0],\n",
              "       ...,\n",
              "       [0, 0, 0, ..., 0, 0, 0],\n",
              "       [0, 0, 0, ..., 0, 0, 0],\n",
              "       [0, 0, 0, ..., 0, 0, 0]])"
            ]
          },
          "metadata": {},
          "execution_count": 179
        }
      ],
      "source": [
        "# Sparse Matrix\n",
        "X"
      ]
    },
    {
      "cell_type": "code",
      "execution_count": null,
      "id": "93246a58",
      "metadata": {
        "execution": {
          "iopub.execute_input": "2021-08-15T09:49:23.248128Z",
          "iopub.status.busy": "2021-08-15T09:49:23.247497Z",
          "iopub.status.idle": "2021-08-15T09:49:23.252854Z",
          "shell.execute_reply": "2021-08-15T09:49:23.253426Z",
          "shell.execute_reply.started": "2021-08-15T09:14:10.772766Z"
        },
        "papermill": {
          "duration": 0.059161,
          "end_time": "2021-08-15T09:49:23.253598",
          "exception": false,
          "start_time": "2021-08-15T09:49:23.194437",
          "status": "completed"
        },
        "tags": [],
        "colab": {
          "base_uri": "https://localhost:8080/"
        },
        "id": "93246a58",
        "outputId": "7838a51e-9a2b-4c0a-cab1-4271510c16c0"
      },
      "outputs": [
        {
          "output_type": "execute_result",
          "data": {
            "text/plain": [
              "(1000, 1500)"
            ]
          },
          "metadata": {},
          "execution_count": 180
        }
      ],
      "source": [
        "# Shape | x: data, y: max_features (that we have defined)\n",
        "X.shape"
      ]
    },
    {
      "cell_type": "code",
      "execution_count": null,
      "id": "517200a3",
      "metadata": {
        "execution": {
          "iopub.execute_input": "2021-08-15T09:49:23.361302Z",
          "iopub.status.busy": "2021-08-15T09:49:23.360426Z",
          "iopub.status.idle": "2021-08-15T09:49:23.363936Z",
          "shell.execute_reply": "2021-08-15T09:49:23.364563Z",
          "shell.execute_reply.started": "2021-08-15T09:14:10.906229Z"
        },
        "papermill": {
          "duration": 0.061162,
          "end_time": "2021-08-15T09:49:23.364783",
          "exception": false,
          "start_time": "2021-08-15T09:49:23.303621",
          "status": "completed"
        },
        "tags": [],
        "colab": {
          "base_uri": "https://localhost:8080/"
        },
        "id": "517200a3",
        "outputId": "fc9c41d0-d300-4497-f41c-d905d1f16a5e"
      },
      "outputs": [
        {
          "output_type": "execute_result",
          "data": {
            "text/plain": [
              "1000"
            ]
          },
          "metadata": {},
          "execution_count": 181
        }
      ],
      "source": [
        "# Select dependent variables\n",
        "y = df[\"Liked\"].values\n",
        "y.shape[0]"
      ]
    },
    {
      "cell_type": "markdown",
      "id": "38f2bc02",
      "metadata": {
        "papermill": {
          "duration": 0.049336,
          "end_time": "2021-08-15T09:49:23.463879",
          "exception": false,
          "start_time": "2021-08-15T09:49:23.414543",
          "status": "completed"
        },
        "tags": [],
        "id": "38f2bc02"
      },
      "source": [
        "<h3 style=\"background-color:#4F6D7A;font-family:newtimeroman;font-size:175%;text-align:left;border-radius: 5px 5px;color:#dbe9ee\">Machine Learning: Classification</h3><a id=\"10\"></a>"
      ]
    },
    {
      "cell_type": "markdown",
      "id": "b1bbf399",
      "metadata": {
        "papermill": {
          "duration": 0.049583,
          "end_time": "2021-08-15T09:49:23.562921",
          "exception": false,
          "start_time": "2021-08-15T09:49:23.513338",
          "status": "completed"
        },
        "tags": [],
        "id": "b1bbf399"
      },
      "source": [
        "Before we move on to the algorithms, we have to split our dataset into train/test"
      ]
    },
    {
      "cell_type": "code",
      "execution_count": null,
      "id": "5534eec2",
      "metadata": {
        "execution": {
          "iopub.execute_input": "2021-08-15T09:49:23.667030Z",
          "iopub.status.busy": "2021-08-15T09:49:23.666431Z",
          "iopub.status.idle": "2021-08-15T09:49:23.678562Z",
          "shell.execute_reply": "2021-08-15T09:49:23.679027Z",
          "shell.execute_reply.started": "2021-08-15T09:14:11.543161Z"
        },
        "papermill": {
          "duration": 0.065477,
          "end_time": "2021-08-15T09:49:23.679221",
          "exception": false,
          "start_time": "2021-08-15T09:49:23.613744",
          "status": "completed"
        },
        "tags": [],
        "id": "5534eec2"
      },
      "outputs": [],
      "source": [
        "X_train,X_test,y_train,y_test = train_test_split(X,y,test_size=0.2,random_state=0)"
      ]
    },
    {
      "cell_type": "code",
      "execution_count": null,
      "id": "788ad9a1",
      "metadata": {
        "execution": {
          "iopub.execute_input": "2021-08-15T09:49:23.780615Z",
          "iopub.status.busy": "2021-08-15T09:49:23.779333Z",
          "iopub.status.idle": "2021-08-15T09:49:23.783595Z",
          "shell.execute_reply": "2021-08-15T09:49:23.784110Z",
          "shell.execute_reply.started": "2021-08-15T09:14:12.748260Z"
        },
        "papermill": {
          "duration": 0.057566,
          "end_time": "2021-08-15T09:49:23.784309",
          "exception": false,
          "start_time": "2021-08-15T09:49:23.726743",
          "status": "completed"
        },
        "tags": [],
        "id": "788ad9a1"
      },
      "outputs": [],
      "source": [
        "# to store accuracy scores\n",
        "algorithms = {}"
      ]
    },
    {
      "cell_type": "markdown",
      "id": "595a7d9f",
      "metadata": {
        "papermill": {
          "duration": 0.050404,
          "end_time": "2021-08-15T09:49:23.883951",
          "exception": false,
          "start_time": "2021-08-15T09:49:23.833547",
          "status": "completed"
        },
        "tags": [],
        "id": "595a7d9f"
      },
      "source": [
        "<h3 style=\"background-color:#4A6FA5;font-family:newtimeroman;font-size:150%;text-align:left;border-radius: 5px 5px;color:#dbe9ee\">Naive Bayes</h3><a id=\"11\"></a>"
      ]
    },
    {
      "cell_type": "code",
      "execution_count": null,
      "id": "786429f5",
      "metadata": {
        "execution": {
          "iopub.execute_input": "2021-08-15T09:49:23.982607Z",
          "iopub.status.busy": "2021-08-15T09:49:23.981903Z",
          "iopub.status.idle": "2021-08-15T09:49:24.091337Z",
          "shell.execute_reply": "2021-08-15T09:49:24.092131Z",
          "shell.execute_reply.started": "2021-08-15T09:14:13.388540Z"
        },
        "papermill": {
          "duration": 0.160758,
          "end_time": "2021-08-15T09:49:24.092386",
          "exception": false,
          "start_time": "2021-08-15T09:49:23.931628",
          "status": "completed"
        },
        "tags": [],
        "id": "786429f5",
        "outputId": "429f1aec-3d23-4330-cc62-dea966343c37",
        "colab": {
          "base_uri": "https://localhost:8080/"
        }
      },
      "outputs": [
        {
          "output_type": "stream",
          "name": "stdout",
          "text": [
            "=> Algorithm: BernoulliNB\n",
            "Confusion Matrix:\n",
            "\n",
            " [[73 24]\n",
            " [21 82]] \n",
            "\n",
            "Accuracy Score: 0.775\n",
            " Classification Report:\n",
            "\n",
            "              precision    recall  f1-score   support\n",
            "\n",
            "           0       0.78      0.75      0.76        97\n",
            "           1       0.77      0.80      0.78       103\n",
            "\n",
            "    accuracy                           0.78       200\n",
            "   macro avg       0.78      0.77      0.77       200\n",
            "weighted avg       0.78      0.78      0.77       200\n",
            "\n",
            "-------------------------\n",
            "=> Algorithm: GaussianNB\n",
            "Confusion Matrix:\n",
            "\n",
            " [[55 42]\n",
            " [12 91]] \n",
            "\n",
            "Accuracy Score: 0.73\n",
            " Classification Report:\n",
            "\n",
            "              precision    recall  f1-score   support\n",
            "\n",
            "           0       0.82      0.57      0.67        97\n",
            "           1       0.68      0.88      0.77       103\n",
            "\n",
            "    accuracy                           0.73       200\n",
            "   macro avg       0.75      0.73      0.72       200\n",
            "weighted avg       0.75      0.73      0.72       200\n",
            "\n",
            "-------------------------\n",
            "=> Algorithm: MultinomialNB\n",
            "Confusion Matrix:\n",
            "\n",
            " [[72 25]\n",
            " [21 82]] \n",
            "\n",
            "Accuracy Score: 0.77\n",
            " Classification Report:\n",
            "\n",
            "              precision    recall  f1-score   support\n",
            "\n",
            "           0       0.77      0.74      0.76        97\n",
            "           1       0.77      0.80      0.78       103\n",
            "\n",
            "    accuracy                           0.77       200\n",
            "   macro avg       0.77      0.77      0.77       200\n",
            "weighted avg       0.77      0.77      0.77       200\n",
            "\n",
            "-------------------------\n"
          ]
        }
      ],
      "source": [
        "nb_algorithms = [BernoulliNB,GaussianNB,MultinomialNB]\n",
        "for algorithm in nb_algorithms:\n",
        "    model = algorithm().fit(X_train,y_train)\n",
        "    y_pred = model.predict(X_test)\n",
        "    cm = confusion_matrix(y_test,y_pred)\n",
        "\n",
        "\n",
        "    print(f'=> Algorithm: {algorithm.__name__}\\nConfusion Matrix:\\n\\n {cm} \\n\\nAccuracy Score: {accuracy_score(y_test,y_pred)}\\n Classification Report:\\n\\n{classification_report(y_test,y_pred)}\\n{\"-\"*25}')\n",
        "    algorithms[algorithm.__name__] = accuracy_score(y_test,y_pred)"
      ]
    },
    {
      "cell_type": "markdown",
      "id": "16f4677f",
      "metadata": {
        "papermill": {
          "duration": 0.055792,
          "end_time": "2021-08-15T09:49:24.240211",
          "exception": false,
          "start_time": "2021-08-15T09:49:24.184419",
          "status": "completed"
        },
        "tags": [],
        "id": "16f4677f"
      },
      "source": [
        "<h3 style=\"background-color:#4A6FA5;font-family:newtimeroman;font-size:150%;text-align:left;border-radius: 5px 5px;color:#dbe9ee\">Neural Networks</h3><a id=\"12\"></a>"
      ]
    },
    {
      "cell_type": "code",
      "execution_count": null,
      "id": "c2259991",
      "metadata": {
        "_kg_hide-output": true,
        "execution": {
          "iopub.execute_input": "2021-08-15T09:49:24.342821Z",
          "iopub.status.busy": "2021-08-15T09:49:24.342010Z",
          "iopub.status.idle": "2021-08-15T09:49:39.597983Z",
          "shell.execute_reply": "2021-08-15T09:49:39.599038Z",
          "shell.execute_reply.started": "2021-08-15T09:14:13.479283Z"
        },
        "papermill": {
          "duration": 15.312782,
          "end_time": "2021-08-15T09:49:39.599379",
          "exception": false,
          "start_time": "2021-08-15T09:49:24.286597",
          "status": "completed"
        },
        "tags": [],
        "id": "c2259991"
      },
      "outputs": [],
      "source": [
        "mlpc_model = MLPClassifier(activation=\"logistic\",max_iter=10000).fit(X_train,y_train)\n",
        "y_pred = mlpc_model.predict(X_test)"
      ]
    },
    {
      "cell_type": "code",
      "execution_count": null,
      "id": "bfbed15f",
      "metadata": {
        "execution": {
          "iopub.execute_input": "2021-08-15T09:49:39.765432Z",
          "iopub.status.busy": "2021-08-15T09:49:39.764538Z",
          "iopub.status.idle": "2021-08-15T09:49:39.768796Z",
          "shell.execute_reply": "2021-08-15T09:49:39.768073Z",
          "shell.execute_reply.started": "2021-08-15T09:14:24.628370Z"
        },
        "papermill": {
          "duration": 0.066486,
          "end_time": "2021-08-15T09:49:39.768986",
          "exception": false,
          "start_time": "2021-08-15T09:49:39.702500",
          "status": "completed"
        },
        "tags": [],
        "colab": {
          "base_uri": "https://localhost:8080/"
        },
        "id": "bfbed15f",
        "outputId": "702440a6-4830-4f09-c354-0a4d2a85e1bf"
      },
      "outputs": [
        {
          "output_type": "stream",
          "name": "stdout",
          "text": [
            "Accuracy Score: 0.755\n"
          ]
        }
      ],
      "source": [
        "algorithms[\"MLPClassifier\"] = accuracy_score(y_test,y_pred)\n",
        "print(\"Accuracy Score:\", accuracy_score(y_test,y_pred))"
      ]
    },
    {
      "cell_type": "code",
      "execution_count": null,
      "id": "4f712ee1",
      "metadata": {
        "execution": {
          "iopub.execute_input": "2021-08-15T09:49:39.873164Z",
          "iopub.status.busy": "2021-08-15T09:49:39.872152Z",
          "iopub.status.idle": "2021-08-15T09:49:39.880452Z",
          "shell.execute_reply": "2021-08-15T09:49:39.880972Z",
          "shell.execute_reply.started": "2021-08-15T09:14:24.649229Z"
        },
        "papermill": {
          "duration": 0.062635,
          "end_time": "2021-08-15T09:49:39.881185",
          "exception": false,
          "start_time": "2021-08-15T09:49:39.818550",
          "status": "completed"
        },
        "tags": [],
        "colab": {
          "base_uri": "https://localhost:8080/"
        },
        "id": "4f712ee1",
        "outputId": "bcf76df6-5c5c-4c7a-fc24-a57deccbc65b"
      },
      "outputs": [
        {
          "output_type": "stream",
          "name": "stdout",
          "text": [
            "              precision    recall  f1-score   support\n",
            "\n",
            "           0       0.75      0.74      0.75        97\n",
            "           1       0.76      0.77      0.76       103\n",
            "\n",
            "    accuracy                           0.76       200\n",
            "   macro avg       0.75      0.75      0.75       200\n",
            "weighted avg       0.75      0.76      0.75       200\n",
            "\n"
          ]
        }
      ],
      "source": [
        "print(classification_report(y_test,y_pred))"
      ]
    },
    {
      "cell_type": "markdown",
      "id": "40ad6570",
      "metadata": {
        "papermill": {
          "duration": 0.046437,
          "end_time": "2021-08-15T09:49:39.977296",
          "exception": false,
          "start_time": "2021-08-15T09:49:39.930859",
          "status": "completed"
        },
        "tags": [],
        "id": "40ad6570"
      },
      "source": [
        "<h3 style=\"background-color:#4A6FA5;font-family:newtimeroman;font-size:150%;text-align:left;border-radius: 5px 5px;color:#dbe9ee\">XGBoost</h3><a id=\"13\"></a>"
      ]
    },
    {
      "cell_type": "code",
      "execution_count": null,
      "id": "3f3dddf6",
      "metadata": {
        "_kg_hide-output": true,
        "execution": {
          "iopub.execute_input": "2021-08-15T09:49:40.078371Z",
          "iopub.status.busy": "2021-08-15T09:49:40.077706Z",
          "iopub.status.idle": "2021-08-15T09:49:42.217031Z",
          "shell.execute_reply": "2021-08-15T09:49:42.217669Z",
          "shell.execute_reply.started": "2021-08-15T09:14:24.675642Z"
        },
        "papermill": {
          "duration": 2.191104,
          "end_time": "2021-08-15T09:49:42.217879",
          "exception": false,
          "start_time": "2021-08-15T09:49:40.026775",
          "status": "completed"
        },
        "tags": [],
        "id": "3f3dddf6"
      },
      "outputs": [],
      "source": [
        "xgb = XGBClassifier().fit(X_train,y_train)\n",
        "\n",
        "y_pred = xgb.predict(X_test)"
      ]
    },
    {
      "cell_type": "code",
      "execution_count": null,
      "id": "2da6ce1f",
      "metadata": {
        "execution": {
          "iopub.execute_input": "2021-08-15T09:49:42.320290Z",
          "iopub.status.busy": "2021-08-15T09:49:42.319323Z",
          "iopub.status.idle": "2021-08-15T09:49:42.326057Z",
          "shell.execute_reply": "2021-08-15T09:49:42.326584Z",
          "shell.execute_reply.started": "2021-08-15T09:14:31.654002Z"
        },
        "papermill": {
          "duration": 0.058279,
          "end_time": "2021-08-15T09:49:42.326756",
          "exception": false,
          "start_time": "2021-08-15T09:49:42.268477",
          "status": "completed"
        },
        "tags": [],
        "colab": {
          "base_uri": "https://localhost:8080/"
        },
        "id": "2da6ce1f",
        "outputId": "8a96769b-2f18-4127-8631-9473279b11ab"
      },
      "outputs": [
        {
          "output_type": "stream",
          "name": "stdout",
          "text": [
            "Accuracy Score: 0.7\n"
          ]
        }
      ],
      "source": [
        "algorithms[\"XGBoost\"] = accuracy_score(y_test,y_pred)\n",
        "\n",
        "print(\"Accuracy Score:\", accuracy_score(y_test,y_pred))"
      ]
    },
    {
      "cell_type": "code",
      "execution_count": null,
      "id": "1d44b0cd",
      "metadata": {
        "execution": {
          "iopub.execute_input": "2021-08-15T09:49:42.434712Z",
          "iopub.status.busy": "2021-08-15T09:49:42.434003Z",
          "iopub.status.idle": "2021-08-15T09:49:42.444152Z",
          "shell.execute_reply": "2021-08-15T09:49:42.443616Z",
          "shell.execute_reply.started": "2021-08-15T09:14:31.664329Z"
        },
        "papermill": {
          "duration": 0.068799,
          "end_time": "2021-08-15T09:49:42.444302",
          "exception": false,
          "start_time": "2021-08-15T09:49:42.375503",
          "status": "completed"
        },
        "tags": [],
        "colab": {
          "base_uri": "https://localhost:8080/"
        },
        "id": "1d44b0cd",
        "outputId": "5aab5c45-f2ac-495f-ff12-f03bdcb461aa"
      },
      "outputs": [
        {
          "output_type": "stream",
          "name": "stdout",
          "text": [
            "              precision    recall  f1-score   support\n",
            "\n",
            "           0       0.65      0.85      0.73        97\n",
            "           1       0.79      0.56      0.66       103\n",
            "\n",
            "    accuracy                           0.70       200\n",
            "   macro avg       0.72      0.70      0.70       200\n",
            "weighted avg       0.72      0.70      0.69       200\n",
            "\n"
          ]
        }
      ],
      "source": [
        "print(classification_report(y_test,y_pred))"
      ]
    },
    {
      "cell_type": "markdown",
      "id": "c383632e",
      "metadata": {
        "papermill": {
          "duration": 0.048931,
          "end_time": "2021-08-15T09:49:42.549391",
          "exception": false,
          "start_time": "2021-08-15T09:49:42.500460",
          "status": "completed"
        },
        "tags": [],
        "id": "c383632e"
      },
      "source": [
        "<h3 style=\"background-color:#4A6FA5;font-family:newtimeroman;font-size:150%;text-align:left;border-radius: 5px 5px;color:#dbe9ee\">CatBoost</h3><a id=\"14\"></a>"
      ]
    },
    {
      "cell_type": "code",
      "execution_count": null,
      "id": "fc34f0a3",
      "metadata": {
        "_kg_hide-output": true,
        "execution": {
          "iopub.execute_input": "2021-08-15T09:49:42.659537Z",
          "iopub.status.busy": "2021-08-15T09:49:42.658626Z",
          "iopub.status.idle": "2021-08-15T09:49:47.596957Z",
          "shell.execute_reply": "2021-08-15T09:49:47.597572Z",
          "shell.execute_reply.started": "2021-08-15T09:14:31.681106Z"
        },
        "papermill": {
          "duration": 5.000484,
          "end_time": "2021-08-15T09:49:47.597778",
          "exception": false,
          "start_time": "2021-08-15T09:49:42.597294",
          "status": "completed"
        },
        "tags": [],
        "colab": {
          "base_uri": "https://localhost:8080/"
        },
        "id": "fc34f0a3",
        "outputId": "a4704a17-a4a3-4fac-fb15-edc9665d1db8"
      },
      "outputs": [
        {
          "output_type": "stream",
          "name": "stdout",
          "text": [
            "Learning rate set to 0.009366\n",
            "0:\tlearn: 0.6915100\ttotal: 9.04ms\tremaining: 9.03s\n",
            "1:\tlearn: 0.6897520\ttotal: 15.6ms\tremaining: 7.8s\n",
            "2:\tlearn: 0.6881708\ttotal: 21.2ms\tremaining: 7.06s\n",
            "3:\tlearn: 0.6863560\ttotal: 26.2ms\tremaining: 6.52s\n",
            "4:\tlearn: 0.6851588\ttotal: 33.5ms\tremaining: 6.67s\n",
            "5:\tlearn: 0.6835686\ttotal: 43.5ms\tremaining: 7.2s\n",
            "6:\tlearn: 0.6816624\ttotal: 54.6ms\tremaining: 7.75s\n",
            "7:\tlearn: 0.6799792\ttotal: 59.6ms\tremaining: 7.39s\n",
            "8:\tlearn: 0.6784411\ttotal: 64.4ms\tremaining: 7.1s\n",
            "9:\tlearn: 0.6762288\ttotal: 69.7ms\tremaining: 6.9s\n",
            "10:\tlearn: 0.6748867\ttotal: 75.6ms\tremaining: 6.79s\n",
            "11:\tlearn: 0.6732213\ttotal: 83.7ms\tremaining: 6.89s\n",
            "12:\tlearn: 0.6712366\ttotal: 88.4ms\tremaining: 6.71s\n",
            "13:\tlearn: 0.6698456\ttotal: 93.5ms\tremaining: 6.58s\n",
            "14:\tlearn: 0.6685242\ttotal: 98.7ms\tremaining: 6.48s\n",
            "15:\tlearn: 0.6667320\ttotal: 104ms\tremaining: 6.38s\n",
            "16:\tlearn: 0.6652944\ttotal: 109ms\tremaining: 6.3s\n",
            "17:\tlearn: 0.6644685\ttotal: 114ms\tremaining: 6.22s\n",
            "18:\tlearn: 0.6630863\ttotal: 119ms\tremaining: 6.14s\n",
            "19:\tlearn: 0.6616479\ttotal: 124ms\tremaining: 6.09s\n",
            "20:\tlearn: 0.6604005\ttotal: 130ms\tremaining: 6.05s\n",
            "21:\tlearn: 0.6600420\ttotal: 136ms\tremaining: 6.04s\n",
            "22:\tlearn: 0.6589424\ttotal: 142ms\tremaining: 6.01s\n",
            "23:\tlearn: 0.6576944\ttotal: 147ms\tremaining: 5.99s\n",
            "24:\tlearn: 0.6562863\ttotal: 153ms\tremaining: 5.96s\n",
            "25:\tlearn: 0.6551326\ttotal: 158ms\tremaining: 5.94s\n",
            "26:\tlearn: 0.6539124\ttotal: 164ms\tremaining: 5.9s\n",
            "27:\tlearn: 0.6527917\ttotal: 169ms\tremaining: 5.87s\n",
            "28:\tlearn: 0.6515732\ttotal: 175ms\tremaining: 5.86s\n",
            "29:\tlearn: 0.6509607\ttotal: 182ms\tremaining: 5.89s\n",
            "30:\tlearn: 0.6497556\ttotal: 188ms\tremaining: 5.89s\n",
            "31:\tlearn: 0.6483734\ttotal: 194ms\tremaining: 5.88s\n",
            "32:\tlearn: 0.6475900\ttotal: 200ms\tremaining: 5.87s\n",
            "33:\tlearn: 0.6463718\ttotal: 206ms\tremaining: 5.86s\n",
            "34:\tlearn: 0.6448638\ttotal: 212ms\tremaining: 5.84s\n",
            "35:\tlearn: 0.6444964\ttotal: 218ms\tremaining: 5.83s\n",
            "36:\tlearn: 0.6436063\ttotal: 224ms\tremaining: 5.82s\n",
            "37:\tlearn: 0.6425244\ttotal: 229ms\tremaining: 5.8s\n",
            "38:\tlearn: 0.6417303\ttotal: 233ms\tremaining: 5.75s\n",
            "39:\tlearn: 0.6410756\ttotal: 239ms\tremaining: 5.74s\n",
            "40:\tlearn: 0.6405724\ttotal: 245ms\tremaining: 5.72s\n",
            "41:\tlearn: 0.6393509\ttotal: 250ms\tremaining: 5.71s\n",
            "42:\tlearn: 0.6385878\ttotal: 256ms\tremaining: 5.7s\n",
            "43:\tlearn: 0.6380944\ttotal: 262ms\tremaining: 5.69s\n",
            "44:\tlearn: 0.6376293\ttotal: 267ms\tremaining: 5.67s\n",
            "45:\tlearn: 0.6362611\ttotal: 273ms\tremaining: 5.66s\n",
            "46:\tlearn: 0.6354612\ttotal: 278ms\tremaining: 5.64s\n",
            "47:\tlearn: 0.6350534\ttotal: 284ms\tremaining: 5.63s\n",
            "48:\tlearn: 0.6344009\ttotal: 290ms\tremaining: 5.62s\n",
            "49:\tlearn: 0.6336723\ttotal: 295ms\tremaining: 5.61s\n",
            "50:\tlearn: 0.6330653\ttotal: 301ms\tremaining: 5.6s\n",
            "51:\tlearn: 0.6322549\ttotal: 306ms\tremaining: 5.58s\n",
            "52:\tlearn: 0.6313682\ttotal: 311ms\tremaining: 5.56s\n",
            "53:\tlearn: 0.6305465\ttotal: 317ms\tremaining: 5.55s\n",
            "54:\tlearn: 0.6301075\ttotal: 322ms\tremaining: 5.54s\n",
            "55:\tlearn: 0.6299319\ttotal: 328ms\tremaining: 5.53s\n",
            "56:\tlearn: 0.6292892\ttotal: 333ms\tremaining: 5.51s\n",
            "57:\tlearn: 0.6287924\ttotal: 339ms\tremaining: 5.5s\n",
            "58:\tlearn: 0.6281044\ttotal: 344ms\tremaining: 5.49s\n",
            "59:\tlearn: 0.6272809\ttotal: 350ms\tremaining: 5.49s\n",
            "60:\tlearn: 0.6266757\ttotal: 356ms\tremaining: 5.47s\n",
            "61:\tlearn: 0.6260298\ttotal: 361ms\tremaining: 5.46s\n",
            "62:\tlearn: 0.6250890\ttotal: 367ms\tremaining: 5.45s\n",
            "63:\tlearn: 0.6245140\ttotal: 372ms\tremaining: 5.44s\n",
            "64:\tlearn: 0.6241387\ttotal: 382ms\tremaining: 5.5s\n",
            "65:\tlearn: 0.6237458\ttotal: 390ms\tremaining: 5.51s\n",
            "66:\tlearn: 0.6233909\ttotal: 395ms\tremaining: 5.5s\n",
            "67:\tlearn: 0.6229980\ttotal: 400ms\tremaining: 5.49s\n",
            "68:\tlearn: 0.6225005\ttotal: 406ms\tremaining: 5.47s\n",
            "69:\tlearn: 0.6218562\ttotal: 411ms\tremaining: 5.46s\n",
            "70:\tlearn: 0.6207712\ttotal: 417ms\tremaining: 5.45s\n",
            "71:\tlearn: 0.6195039\ttotal: 422ms\tremaining: 5.44s\n",
            "72:\tlearn: 0.6189915\ttotal: 427ms\tremaining: 5.43s\n",
            "73:\tlearn: 0.6185373\ttotal: 433ms\tremaining: 5.42s\n",
            "74:\tlearn: 0.6179924\ttotal: 439ms\tremaining: 5.42s\n",
            "75:\tlearn: 0.6174519\ttotal: 445ms\tremaining: 5.41s\n",
            "76:\tlearn: 0.6167989\ttotal: 450ms\tremaining: 5.39s\n",
            "77:\tlearn: 0.6156336\ttotal: 455ms\tremaining: 5.38s\n",
            "78:\tlearn: 0.6148210\ttotal: 461ms\tremaining: 5.37s\n",
            "79:\tlearn: 0.6142606\ttotal: 466ms\tremaining: 5.36s\n",
            "80:\tlearn: 0.6137333\ttotal: 472ms\tremaining: 5.36s\n",
            "81:\tlearn: 0.6129076\ttotal: 478ms\tremaining: 5.35s\n",
            "82:\tlearn: 0.6119578\ttotal: 483ms\tremaining: 5.34s\n",
            "83:\tlearn: 0.6113875\ttotal: 489ms\tremaining: 5.33s\n",
            "84:\tlearn: 0.6109318\ttotal: 494ms\tremaining: 5.32s\n",
            "85:\tlearn: 0.6100740\ttotal: 499ms\tremaining: 5.31s\n",
            "86:\tlearn: 0.6095094\ttotal: 505ms\tremaining: 5.3s\n",
            "87:\tlearn: 0.6088258\ttotal: 511ms\tremaining: 5.29s\n",
            "88:\tlearn: 0.6082355\ttotal: 516ms\tremaining: 5.28s\n",
            "89:\tlearn: 0.6077423\ttotal: 522ms\tremaining: 5.28s\n",
            "90:\tlearn: 0.6073815\ttotal: 529ms\tremaining: 5.28s\n",
            "91:\tlearn: 0.6066628\ttotal: 534ms\tremaining: 5.27s\n",
            "92:\tlearn: 0.6064859\ttotal: 539ms\tremaining: 5.26s\n",
            "93:\tlearn: 0.6058657\ttotal: 544ms\tremaining: 5.25s\n",
            "94:\tlearn: 0.6054006\ttotal: 550ms\tremaining: 5.24s\n",
            "95:\tlearn: 0.6045022\ttotal: 555ms\tremaining: 5.23s\n",
            "96:\tlearn: 0.6039904\ttotal: 561ms\tremaining: 5.22s\n",
            "97:\tlearn: 0.6035591\ttotal: 568ms\tremaining: 5.23s\n",
            "98:\tlearn: 0.6030837\ttotal: 577ms\tremaining: 5.25s\n",
            "99:\tlearn: 0.6025756\ttotal: 585ms\tremaining: 5.26s\n",
            "100:\tlearn: 0.6020335\ttotal: 593ms\tremaining: 5.28s\n",
            "101:\tlearn: 0.6016940\ttotal: 598ms\tremaining: 5.27s\n",
            "102:\tlearn: 0.6010421\ttotal: 604ms\tremaining: 5.26s\n",
            "103:\tlearn: 0.6005567\ttotal: 609ms\tremaining: 5.24s\n",
            "104:\tlearn: 0.6001563\ttotal: 614ms\tremaining: 5.23s\n",
            "105:\tlearn: 0.5996785\ttotal: 619ms\tremaining: 5.22s\n",
            "106:\tlearn: 0.5992339\ttotal: 625ms\tremaining: 5.21s\n",
            "107:\tlearn: 0.5989215\ttotal: 630ms\tremaining: 5.21s\n",
            "108:\tlearn: 0.5986610\ttotal: 636ms\tremaining: 5.2s\n",
            "109:\tlearn: 0.5982718\ttotal: 641ms\tremaining: 5.19s\n",
            "110:\tlearn: 0.5976953\ttotal: 647ms\tremaining: 5.18s\n",
            "111:\tlearn: 0.5973982\ttotal: 652ms\tremaining: 5.17s\n",
            "112:\tlearn: 0.5970294\ttotal: 658ms\tremaining: 5.17s\n",
            "113:\tlearn: 0.5964785\ttotal: 664ms\tremaining: 5.16s\n",
            "114:\tlearn: 0.5959769\ttotal: 670ms\tremaining: 5.16s\n",
            "115:\tlearn: 0.5956158\ttotal: 676ms\tremaining: 5.15s\n",
            "116:\tlearn: 0.5953542\ttotal: 681ms\tremaining: 5.14s\n",
            "117:\tlearn: 0.5948821\ttotal: 687ms\tremaining: 5.13s\n",
            "118:\tlearn: 0.5944060\ttotal: 692ms\tremaining: 5.13s\n",
            "119:\tlearn: 0.5942804\ttotal: 698ms\tremaining: 5.12s\n",
            "120:\tlearn: 0.5939910\ttotal: 704ms\tremaining: 5.11s\n",
            "121:\tlearn: 0.5937956\ttotal: 709ms\tremaining: 5.11s\n",
            "122:\tlearn: 0.5932743\ttotal: 715ms\tremaining: 5.1s\n",
            "123:\tlearn: 0.5928530\ttotal: 721ms\tremaining: 5.09s\n",
            "124:\tlearn: 0.5923594\ttotal: 726ms\tremaining: 5.08s\n",
            "125:\tlearn: 0.5917865\ttotal: 731ms\tremaining: 5.07s\n",
            "126:\tlearn: 0.5914517\ttotal: 737ms\tremaining: 5.07s\n",
            "127:\tlearn: 0.5908553\ttotal: 742ms\tremaining: 5.06s\n",
            "128:\tlearn: 0.5901692\ttotal: 748ms\tremaining: 5.05s\n",
            "129:\tlearn: 0.5897725\ttotal: 754ms\tremaining: 5.04s\n",
            "130:\tlearn: 0.5893616\ttotal: 760ms\tremaining: 5.04s\n",
            "131:\tlearn: 0.5889856\ttotal: 769ms\tremaining: 5.06s\n",
            "132:\tlearn: 0.5886261\ttotal: 776ms\tremaining: 5.06s\n",
            "133:\tlearn: 0.5882193\ttotal: 781ms\tremaining: 5.05s\n",
            "134:\tlearn: 0.5879742\ttotal: 787ms\tremaining: 5.04s\n",
            "135:\tlearn: 0.5874393\ttotal: 792ms\tremaining: 5.03s\n",
            "136:\tlearn: 0.5871077\ttotal: 797ms\tremaining: 5.02s\n",
            "137:\tlearn: 0.5865458\ttotal: 802ms\tremaining: 5.01s\n",
            "138:\tlearn: 0.5860786\ttotal: 807ms\tremaining: 5s\n",
            "139:\tlearn: 0.5852024\ttotal: 812ms\tremaining: 4.99s\n",
            "140:\tlearn: 0.5848372\ttotal: 817ms\tremaining: 4.98s\n",
            "141:\tlearn: 0.5844523\ttotal: 823ms\tremaining: 4.97s\n",
            "142:\tlearn: 0.5841607\ttotal: 829ms\tremaining: 4.96s\n",
            "143:\tlearn: 0.5837122\ttotal: 834ms\tremaining: 4.96s\n",
            "144:\tlearn: 0.5828420\ttotal: 840ms\tremaining: 4.95s\n",
            "145:\tlearn: 0.5825580\ttotal: 845ms\tremaining: 4.94s\n",
            "146:\tlearn: 0.5821863\ttotal: 851ms\tremaining: 4.94s\n",
            "147:\tlearn: 0.5819397\ttotal: 856ms\tremaining: 4.93s\n",
            "148:\tlearn: 0.5815432\ttotal: 862ms\tremaining: 4.92s\n",
            "149:\tlearn: 0.5812739\ttotal: 868ms\tremaining: 4.92s\n",
            "150:\tlearn: 0.5806783\ttotal: 875ms\tremaining: 4.92s\n",
            "151:\tlearn: 0.5802779\ttotal: 881ms\tremaining: 4.91s\n",
            "152:\tlearn: 0.5795958\ttotal: 887ms\tremaining: 4.91s\n",
            "153:\tlearn: 0.5788738\ttotal: 892ms\tremaining: 4.9s\n",
            "154:\tlearn: 0.5782545\ttotal: 898ms\tremaining: 4.89s\n",
            "155:\tlearn: 0.5777046\ttotal: 904ms\tremaining: 4.89s\n",
            "156:\tlearn: 0.5773443\ttotal: 910ms\tremaining: 4.89s\n",
            "157:\tlearn: 0.5769730\ttotal: 916ms\tremaining: 4.88s\n",
            "158:\tlearn: 0.5766269\ttotal: 921ms\tremaining: 4.87s\n",
            "159:\tlearn: 0.5761910\ttotal: 927ms\tremaining: 4.87s\n",
            "160:\tlearn: 0.5757708\ttotal: 932ms\tremaining: 4.86s\n",
            "161:\tlearn: 0.5754561\ttotal: 938ms\tremaining: 4.85s\n",
            "162:\tlearn: 0.5752168\ttotal: 943ms\tremaining: 4.84s\n",
            "163:\tlearn: 0.5746310\ttotal: 949ms\tremaining: 4.84s\n",
            "164:\tlearn: 0.5741497\ttotal: 954ms\tremaining: 4.83s\n",
            "165:\tlearn: 0.5738535\ttotal: 966ms\tremaining: 4.85s\n",
            "166:\tlearn: 0.5733881\ttotal: 971ms\tremaining: 4.84s\n",
            "167:\tlearn: 0.5730837\ttotal: 977ms\tremaining: 4.84s\n",
            "168:\tlearn: 0.5728873\ttotal: 983ms\tremaining: 4.83s\n",
            "169:\tlearn: 0.5723983\ttotal: 991ms\tremaining: 4.84s\n",
            "170:\tlearn: 0.5720418\ttotal: 998ms\tremaining: 4.84s\n",
            "171:\tlearn: 0.5716377\ttotal: 1.01s\tremaining: 4.85s\n",
            "172:\tlearn: 0.5715365\ttotal: 1.02s\tremaining: 4.86s\n",
            "173:\tlearn: 0.5712334\ttotal: 1.02s\tremaining: 4.86s\n",
            "174:\tlearn: 0.5710372\ttotal: 1.03s\tremaining: 4.85s\n",
            "175:\tlearn: 0.5707514\ttotal: 1.03s\tremaining: 4.84s\n",
            "176:\tlearn: 0.5702995\ttotal: 1.04s\tremaining: 4.84s\n",
            "177:\tlearn: 0.5700553\ttotal: 1.05s\tremaining: 4.83s\n",
            "178:\tlearn: 0.5698575\ttotal: 1.05s\tremaining: 4.82s\n",
            "179:\tlearn: 0.5694960\ttotal: 1.06s\tremaining: 4.81s\n",
            "180:\tlearn: 0.5692451\ttotal: 1.06s\tremaining: 4.8s\n",
            "181:\tlearn: 0.5689351\ttotal: 1.07s\tremaining: 4.79s\n",
            "182:\tlearn: 0.5686196\ttotal: 1.07s\tremaining: 4.79s\n",
            "183:\tlearn: 0.5683041\ttotal: 1.08s\tremaining: 4.78s\n",
            "184:\tlearn: 0.5677875\ttotal: 1.08s\tremaining: 4.77s\n",
            "185:\tlearn: 0.5673672\ttotal: 1.09s\tremaining: 4.76s\n",
            "186:\tlearn: 0.5670422\ttotal: 1.09s\tremaining: 4.75s\n",
            "187:\tlearn: 0.5666353\ttotal: 1.1s\tremaining: 4.75s\n",
            "188:\tlearn: 0.5664554\ttotal: 1.1s\tremaining: 4.74s\n",
            "189:\tlearn: 0.5661715\ttotal: 1.11s\tremaining: 4.73s\n",
            "190:\tlearn: 0.5659753\ttotal: 1.11s\tremaining: 4.72s\n",
            "191:\tlearn: 0.5658223\ttotal: 1.12s\tremaining: 4.71s\n",
            "192:\tlearn: 0.5655313\ttotal: 1.12s\tremaining: 4.7s\n",
            "193:\tlearn: 0.5653824\ttotal: 1.13s\tremaining: 4.69s\n",
            "194:\tlearn: 0.5652596\ttotal: 1.13s\tremaining: 4.68s\n",
            "195:\tlearn: 0.5649018\ttotal: 1.14s\tremaining: 4.67s\n",
            "196:\tlearn: 0.5647158\ttotal: 1.14s\tremaining: 4.66s\n",
            "197:\tlearn: 0.5642523\ttotal: 1.15s\tremaining: 4.65s\n",
            "198:\tlearn: 0.5640175\ttotal: 1.16s\tremaining: 4.65s\n",
            "199:\tlearn: 0.5638073\ttotal: 1.16s\tremaining: 4.65s\n",
            "200:\tlearn: 0.5634002\ttotal: 1.17s\tremaining: 4.64s\n",
            "201:\tlearn: 0.5630791\ttotal: 1.17s\tremaining: 4.63s\n",
            "202:\tlearn: 0.5628301\ttotal: 1.18s\tremaining: 4.62s\n",
            "203:\tlearn: 0.5626857\ttotal: 1.18s\tremaining: 4.61s\n",
            "204:\tlearn: 0.5624216\ttotal: 1.19s\tremaining: 4.6s\n",
            "205:\tlearn: 0.5621233\ttotal: 1.19s\tremaining: 4.59s\n",
            "206:\tlearn: 0.5616261\ttotal: 1.2s\tremaining: 4.59s\n",
            "207:\tlearn: 0.5613021\ttotal: 1.2s\tremaining: 4.58s\n",
            "208:\tlearn: 0.5611064\ttotal: 1.21s\tremaining: 4.57s\n",
            "209:\tlearn: 0.5606464\ttotal: 1.21s\tremaining: 4.56s\n",
            "210:\tlearn: 0.5604295\ttotal: 1.22s\tremaining: 4.55s\n",
            "211:\tlearn: 0.5598877\ttotal: 1.22s\tremaining: 4.54s\n",
            "212:\tlearn: 0.5596885\ttotal: 1.23s\tremaining: 4.54s\n",
            "213:\tlearn: 0.5594605\ttotal: 1.23s\tremaining: 4.53s\n",
            "214:\tlearn: 0.5591741\ttotal: 1.24s\tremaining: 4.52s\n",
            "215:\tlearn: 0.5589971\ttotal: 1.24s\tremaining: 4.51s\n",
            "216:\tlearn: 0.5587662\ttotal: 1.25s\tremaining: 4.5s\n",
            "217:\tlearn: 0.5585043\ttotal: 1.25s\tremaining: 4.5s\n",
            "218:\tlearn: 0.5581810\ttotal: 1.26s\tremaining: 4.49s\n",
            "219:\tlearn: 0.5577383\ttotal: 1.26s\tremaining: 4.48s\n",
            "220:\tlearn: 0.5574762\ttotal: 1.27s\tremaining: 4.48s\n",
            "221:\tlearn: 0.5572237\ttotal: 1.27s\tremaining: 4.47s\n",
            "222:\tlearn: 0.5569178\ttotal: 1.28s\tremaining: 4.46s\n",
            "223:\tlearn: 0.5564637\ttotal: 1.29s\tremaining: 4.46s\n",
            "224:\tlearn: 0.5561595\ttotal: 1.29s\tremaining: 4.45s\n",
            "225:\tlearn: 0.5558765\ttotal: 1.3s\tremaining: 4.44s\n",
            "226:\tlearn: 0.5555446\ttotal: 1.3s\tremaining: 4.44s\n",
            "227:\tlearn: 0.5551725\ttotal: 1.31s\tremaining: 4.43s\n",
            "228:\tlearn: 0.5549825\ttotal: 1.31s\tremaining: 4.42s\n",
            "229:\tlearn: 0.5546554\ttotal: 1.32s\tremaining: 4.41s\n",
            "230:\tlearn: 0.5544600\ttotal: 1.32s\tremaining: 4.41s\n",
            "231:\tlearn: 0.5541305\ttotal: 1.33s\tremaining: 4.4s\n",
            "232:\tlearn: 0.5538967\ttotal: 1.33s\tremaining: 4.39s\n",
            "233:\tlearn: 0.5537088\ttotal: 1.34s\tremaining: 4.38s\n",
            "234:\tlearn: 0.5533278\ttotal: 1.34s\tremaining: 4.38s\n",
            "235:\tlearn: 0.5530251\ttotal: 1.35s\tremaining: 4.38s\n",
            "236:\tlearn: 0.5528426\ttotal: 1.36s\tremaining: 4.38s\n",
            "237:\tlearn: 0.5524587\ttotal: 1.36s\tremaining: 4.37s\n",
            "238:\tlearn: 0.5521333\ttotal: 1.37s\tremaining: 4.36s\n",
            "239:\tlearn: 0.5518567\ttotal: 1.38s\tremaining: 4.35s\n",
            "240:\tlearn: 0.5516991\ttotal: 1.38s\tremaining: 4.35s\n",
            "241:\tlearn: 0.5514471\ttotal: 1.39s\tremaining: 4.34s\n",
            "242:\tlearn: 0.5513132\ttotal: 1.39s\tremaining: 4.33s\n",
            "243:\tlearn: 0.5510977\ttotal: 1.4s\tremaining: 4.33s\n",
            "244:\tlearn: 0.5509191\ttotal: 1.4s\tremaining: 4.32s\n",
            "245:\tlearn: 0.5508088\ttotal: 1.41s\tremaining: 4.31s\n",
            "246:\tlearn: 0.5503725\ttotal: 1.41s\tremaining: 4.31s\n",
            "247:\tlearn: 0.5500060\ttotal: 1.42s\tremaining: 4.3s\n",
            "248:\tlearn: 0.5497490\ttotal: 1.42s\tremaining: 4.29s\n",
            "249:\tlearn: 0.5494833\ttotal: 1.43s\tremaining: 4.28s\n",
            "250:\tlearn: 0.5492318\ttotal: 1.43s\tremaining: 4.27s\n",
            "251:\tlearn: 0.5489974\ttotal: 1.44s\tremaining: 4.26s\n",
            "252:\tlearn: 0.5488840\ttotal: 1.44s\tremaining: 4.26s\n",
            "253:\tlearn: 0.5487009\ttotal: 1.45s\tremaining: 4.25s\n",
            "254:\tlearn: 0.5483762\ttotal: 1.45s\tremaining: 4.24s\n",
            "255:\tlearn: 0.5481585\ttotal: 1.46s\tremaining: 4.23s\n",
            "256:\tlearn: 0.5479218\ttotal: 1.46s\tremaining: 4.23s\n",
            "257:\tlearn: 0.5475441\ttotal: 1.47s\tremaining: 4.22s\n",
            "258:\tlearn: 0.5473858\ttotal: 1.47s\tremaining: 4.21s\n",
            "259:\tlearn: 0.5471239\ttotal: 1.48s\tremaining: 4.2s\n",
            "260:\tlearn: 0.5469481\ttotal: 1.48s\tremaining: 4.19s\n",
            "261:\tlearn: 0.5467943\ttotal: 1.49s\tremaining: 4.18s\n",
            "262:\tlearn: 0.5467194\ttotal: 1.49s\tremaining: 4.18s\n",
            "263:\tlearn: 0.5465474\ttotal: 1.5s\tremaining: 4.17s\n",
            "264:\tlearn: 0.5461713\ttotal: 1.5s\tremaining: 4.16s\n",
            "265:\tlearn: 0.5460271\ttotal: 1.51s\tremaining: 4.16s\n",
            "266:\tlearn: 0.5457265\ttotal: 1.51s\tremaining: 4.15s\n",
            "267:\tlearn: 0.5455030\ttotal: 1.52s\tremaining: 4.14s\n",
            "268:\tlearn: 0.5453471\ttotal: 1.52s\tremaining: 4.13s\n",
            "269:\tlearn: 0.5449556\ttotal: 1.53s\tremaining: 4.13s\n",
            "270:\tlearn: 0.5446051\ttotal: 1.53s\tremaining: 4.13s\n",
            "271:\tlearn: 0.5443890\ttotal: 1.54s\tremaining: 4.12s\n",
            "272:\tlearn: 0.5442503\ttotal: 1.55s\tremaining: 4.12s\n",
            "273:\tlearn: 0.5440355\ttotal: 1.55s\tremaining: 4.12s\n",
            "274:\tlearn: 0.5438918\ttotal: 1.56s\tremaining: 4.11s\n",
            "275:\tlearn: 0.5434767\ttotal: 1.56s\tremaining: 4.1s\n",
            "276:\tlearn: 0.5431469\ttotal: 1.57s\tremaining: 4.09s\n",
            "277:\tlearn: 0.5429218\ttotal: 1.57s\tremaining: 4.09s\n",
            "278:\tlearn: 0.5427281\ttotal: 1.58s\tremaining: 4.08s\n",
            "279:\tlearn: 0.5424745\ttotal: 1.58s\tremaining: 4.07s\n",
            "280:\tlearn: 0.5420804\ttotal: 1.59s\tremaining: 4.07s\n",
            "281:\tlearn: 0.5419609\ttotal: 1.59s\tremaining: 4.06s\n",
            "282:\tlearn: 0.5415406\ttotal: 1.6s\tremaining: 4.05s\n",
            "283:\tlearn: 0.5413357\ttotal: 1.6s\tremaining: 4.05s\n",
            "284:\tlearn: 0.5411047\ttotal: 1.61s\tremaining: 4.04s\n",
            "285:\tlearn: 0.5408804\ttotal: 1.61s\tremaining: 4.03s\n",
            "286:\tlearn: 0.5407991\ttotal: 1.62s\tremaining: 4.03s\n",
            "287:\tlearn: 0.5405380\ttotal: 1.63s\tremaining: 4.02s\n",
            "288:\tlearn: 0.5402952\ttotal: 1.63s\tremaining: 4.01s\n",
            "289:\tlearn: 0.5401040\ttotal: 1.64s\tremaining: 4.01s\n",
            "290:\tlearn: 0.5400570\ttotal: 1.64s\tremaining: 4s\n",
            "291:\tlearn: 0.5399475\ttotal: 1.65s\tremaining: 3.99s\n",
            "292:\tlearn: 0.5398032\ttotal: 1.65s\tremaining: 3.98s\n",
            "293:\tlearn: 0.5397115\ttotal: 1.66s\tremaining: 3.98s\n",
            "294:\tlearn: 0.5395950\ttotal: 1.66s\tremaining: 3.97s\n",
            "295:\tlearn: 0.5393063\ttotal: 1.67s\tremaining: 3.96s\n",
            "296:\tlearn: 0.5388551\ttotal: 1.67s\tremaining: 3.96s\n",
            "297:\tlearn: 0.5386711\ttotal: 1.68s\tremaining: 3.95s\n",
            "298:\tlearn: 0.5386083\ttotal: 1.68s\tremaining: 3.94s\n",
            "299:\tlearn: 0.5382813\ttotal: 1.68s\tremaining: 3.93s\n",
            "300:\tlearn: 0.5381343\ttotal: 1.69s\tremaining: 3.92s\n",
            "301:\tlearn: 0.5379822\ttotal: 1.69s\tremaining: 3.92s\n",
            "302:\tlearn: 0.5377453\ttotal: 1.7s\tremaining: 3.91s\n",
            "303:\tlearn: 0.5375135\ttotal: 1.71s\tremaining: 3.9s\n",
            "304:\tlearn: 0.5372988\ttotal: 1.71s\tremaining: 3.9s\n",
            "305:\tlearn: 0.5372086\ttotal: 1.72s\tremaining: 3.89s\n",
            "306:\tlearn: 0.5369892\ttotal: 1.72s\tremaining: 3.88s\n",
            "307:\tlearn: 0.5368194\ttotal: 1.73s\tremaining: 3.88s\n",
            "308:\tlearn: 0.5365821\ttotal: 1.73s\tremaining: 3.87s\n",
            "309:\tlearn: 0.5363591\ttotal: 1.74s\tremaining: 3.86s\n",
            "310:\tlearn: 0.5359492\ttotal: 1.75s\tremaining: 3.87s\n",
            "311:\tlearn: 0.5355867\ttotal: 1.75s\tremaining: 3.86s\n",
            "312:\tlearn: 0.5353279\ttotal: 1.76s\tremaining: 3.85s\n",
            "313:\tlearn: 0.5351010\ttotal: 1.76s\tremaining: 3.85s\n",
            "314:\tlearn: 0.5348745\ttotal: 1.77s\tremaining: 3.84s\n",
            "315:\tlearn: 0.5345495\ttotal: 1.77s\tremaining: 3.83s\n",
            "316:\tlearn: 0.5343321\ttotal: 1.78s\tremaining: 3.83s\n",
            "317:\tlearn: 0.5338165\ttotal: 1.78s\tremaining: 3.82s\n",
            "318:\tlearn: 0.5335715\ttotal: 1.79s\tremaining: 3.81s\n",
            "319:\tlearn: 0.5333857\ttotal: 1.79s\tremaining: 3.81s\n",
            "320:\tlearn: 0.5331413\ttotal: 1.8s\tremaining: 3.8s\n",
            "321:\tlearn: 0.5329869\ttotal: 1.8s\tremaining: 3.79s\n",
            "322:\tlearn: 0.5327461\ttotal: 1.81s\tremaining: 3.79s\n",
            "323:\tlearn: 0.5325267\ttotal: 1.81s\tremaining: 3.78s\n",
            "324:\tlearn: 0.5323949\ttotal: 1.82s\tremaining: 3.78s\n",
            "325:\tlearn: 0.5321101\ttotal: 1.82s\tremaining: 3.77s\n",
            "326:\tlearn: 0.5319636\ttotal: 1.83s\tremaining: 3.76s\n",
            "327:\tlearn: 0.5317950\ttotal: 1.83s\tremaining: 3.76s\n",
            "328:\tlearn: 0.5315990\ttotal: 1.84s\tremaining: 3.75s\n",
            "329:\tlearn: 0.5312687\ttotal: 1.84s\tremaining: 3.74s\n",
            "330:\tlearn: 0.5311340\ttotal: 1.85s\tremaining: 3.74s\n",
            "331:\tlearn: 0.5308530\ttotal: 1.85s\tremaining: 3.73s\n",
            "332:\tlearn: 0.5306194\ttotal: 1.86s\tremaining: 3.72s\n",
            "333:\tlearn: 0.5303301\ttotal: 1.86s\tremaining: 3.72s\n",
            "334:\tlearn: 0.5301674\ttotal: 1.87s\tremaining: 3.71s\n",
            "335:\tlearn: 0.5297563\ttotal: 1.87s\tremaining: 3.7s\n",
            "336:\tlearn: 0.5294469\ttotal: 1.88s\tremaining: 3.7s\n",
            "337:\tlearn: 0.5292587\ttotal: 1.88s\tremaining: 3.69s\n",
            "338:\tlearn: 0.5290829\ttotal: 1.89s\tremaining: 3.68s\n",
            "339:\tlearn: 0.5288055\ttotal: 1.89s\tremaining: 3.68s\n",
            "340:\tlearn: 0.5286818\ttotal: 1.9s\tremaining: 3.67s\n",
            "341:\tlearn: 0.5284278\ttotal: 1.9s\tremaining: 3.66s\n",
            "342:\tlearn: 0.5281569\ttotal: 1.91s\tremaining: 3.66s\n",
            "343:\tlearn: 0.5280796\ttotal: 1.91s\tremaining: 3.65s\n",
            "344:\tlearn: 0.5279639\ttotal: 1.92s\tremaining: 3.64s\n",
            "345:\tlearn: 0.5277369\ttotal: 1.92s\tremaining: 3.64s\n",
            "346:\tlearn: 0.5273516\ttotal: 1.93s\tremaining: 3.63s\n",
            "347:\tlearn: 0.5272186\ttotal: 1.93s\tremaining: 3.62s\n",
            "348:\tlearn: 0.5270094\ttotal: 1.94s\tremaining: 3.62s\n",
            "349:\tlearn: 0.5268878\ttotal: 1.95s\tremaining: 3.62s\n",
            "350:\tlearn: 0.5266285\ttotal: 1.95s\tremaining: 3.61s\n",
            "351:\tlearn: 0.5265453\ttotal: 1.96s\tremaining: 3.6s\n",
            "352:\tlearn: 0.5264097\ttotal: 1.97s\tremaining: 3.6s\n",
            "353:\tlearn: 0.5262468\ttotal: 1.98s\tremaining: 3.6s\n",
            "354:\tlearn: 0.5260608\ttotal: 1.98s\tremaining: 3.6s\n",
            "355:\tlearn: 0.5258862\ttotal: 1.99s\tremaining: 3.6s\n",
            "356:\tlearn: 0.5256932\ttotal: 1.99s\tremaining: 3.59s\n",
            "357:\tlearn: 0.5255962\ttotal: 2s\tremaining: 3.58s\n",
            "358:\tlearn: 0.5253958\ttotal: 2.01s\tremaining: 3.58s\n",
            "359:\tlearn: 0.5250128\ttotal: 2.01s\tremaining: 3.58s\n",
            "360:\tlearn: 0.5248662\ttotal: 2.02s\tremaining: 3.57s\n",
            "361:\tlearn: 0.5244712\ttotal: 2.02s\tremaining: 3.56s\n",
            "362:\tlearn: 0.5243221\ttotal: 2.03s\tremaining: 3.56s\n",
            "363:\tlearn: 0.5241108\ttotal: 2.03s\tremaining: 3.55s\n",
            "364:\tlearn: 0.5238954\ttotal: 2.04s\tremaining: 3.54s\n",
            "365:\tlearn: 0.5235110\ttotal: 2.04s\tremaining: 3.54s\n",
            "366:\tlearn: 0.5233147\ttotal: 2.05s\tremaining: 3.53s\n",
            "367:\tlearn: 0.5229920\ttotal: 2.05s\tremaining: 3.52s\n",
            "368:\tlearn: 0.5228132\ttotal: 2.06s\tremaining: 3.52s\n",
            "369:\tlearn: 0.5227308\ttotal: 2.06s\tremaining: 3.51s\n",
            "370:\tlearn: 0.5225872\ttotal: 2.07s\tremaining: 3.5s\n",
            "371:\tlearn: 0.5222827\ttotal: 2.07s\tremaining: 3.5s\n",
            "372:\tlearn: 0.5221278\ttotal: 2.08s\tremaining: 3.49s\n",
            "373:\tlearn: 0.5219827\ttotal: 2.08s\tremaining: 3.48s\n",
            "374:\tlearn: 0.5217491\ttotal: 2.09s\tremaining: 3.48s\n",
            "375:\tlearn: 0.5216800\ttotal: 2.09s\tremaining: 3.47s\n",
            "376:\tlearn: 0.5216062\ttotal: 2.1s\tremaining: 3.47s\n",
            "377:\tlearn: 0.5213964\ttotal: 2.1s\tremaining: 3.46s\n",
            "378:\tlearn: 0.5212346\ttotal: 2.11s\tremaining: 3.45s\n",
            "379:\tlearn: 0.5209859\ttotal: 2.11s\tremaining: 3.45s\n",
            "380:\tlearn: 0.5207990\ttotal: 2.12s\tremaining: 3.44s\n",
            "381:\tlearn: 0.5206617\ttotal: 2.12s\tremaining: 3.43s\n",
            "382:\tlearn: 0.5204776\ttotal: 2.13s\tremaining: 3.43s\n",
            "383:\tlearn: 0.5203323\ttotal: 2.13s\tremaining: 3.43s\n",
            "384:\tlearn: 0.5201471\ttotal: 2.15s\tremaining: 3.44s\n",
            "385:\tlearn: 0.5199930\ttotal: 2.16s\tremaining: 3.44s\n",
            "386:\tlearn: 0.5198499\ttotal: 2.17s\tremaining: 3.43s\n",
            "387:\tlearn: 0.5196674\ttotal: 2.17s\tremaining: 3.42s\n",
            "388:\tlearn: 0.5195398\ttotal: 2.17s\tremaining: 3.42s\n",
            "389:\tlearn: 0.5192724\ttotal: 2.18s\tremaining: 3.41s\n",
            "390:\tlearn: 0.5191281\ttotal: 2.19s\tremaining: 3.4s\n",
            "391:\tlearn: 0.5189842\ttotal: 2.19s\tremaining: 3.4s\n",
            "392:\tlearn: 0.5188447\ttotal: 2.19s\tremaining: 3.39s\n",
            "393:\tlearn: 0.5186678\ttotal: 2.2s\tremaining: 3.38s\n",
            "394:\tlearn: 0.5183641\ttotal: 2.21s\tremaining: 3.38s\n",
            "395:\tlearn: 0.5182311\ttotal: 2.21s\tremaining: 3.37s\n",
            "396:\tlearn: 0.5180716\ttotal: 2.21s\tremaining: 3.36s\n",
            "397:\tlearn: 0.5178728\ttotal: 2.22s\tremaining: 3.36s\n",
            "398:\tlearn: 0.5178011\ttotal: 2.23s\tremaining: 3.35s\n",
            "399:\tlearn: 0.5176154\ttotal: 2.23s\tremaining: 3.35s\n",
            "400:\tlearn: 0.5174062\ttotal: 2.23s\tremaining: 3.34s\n",
            "401:\tlearn: 0.5172803\ttotal: 2.24s\tremaining: 3.33s\n",
            "402:\tlearn: 0.5170323\ttotal: 2.25s\tremaining: 3.33s\n",
            "403:\tlearn: 0.5167982\ttotal: 2.25s\tremaining: 3.32s\n",
            "404:\tlearn: 0.5166262\ttotal: 2.26s\tremaining: 3.31s\n",
            "405:\tlearn: 0.5164444\ttotal: 2.26s\tremaining: 3.31s\n",
            "406:\tlearn: 0.5162550\ttotal: 2.27s\tremaining: 3.3s\n",
            "407:\tlearn: 0.5161343\ttotal: 2.27s\tremaining: 3.29s\n",
            "408:\tlearn: 0.5159842\ttotal: 2.28s\tremaining: 3.29s\n",
            "409:\tlearn: 0.5157637\ttotal: 2.28s\tremaining: 3.28s\n",
            "410:\tlearn: 0.5156766\ttotal: 2.29s\tremaining: 3.28s\n",
            "411:\tlearn: 0.5155844\ttotal: 2.29s\tremaining: 3.27s\n",
            "412:\tlearn: 0.5153802\ttotal: 2.3s\tremaining: 3.27s\n",
            "413:\tlearn: 0.5151410\ttotal: 2.3s\tremaining: 3.26s\n",
            "414:\tlearn: 0.5149498\ttotal: 2.31s\tremaining: 3.25s\n",
            "415:\tlearn: 0.5147438\ttotal: 2.31s\tremaining: 3.25s\n",
            "416:\tlearn: 0.5146153\ttotal: 2.32s\tremaining: 3.24s\n",
            "417:\tlearn: 0.5144236\ttotal: 2.32s\tremaining: 3.23s\n",
            "418:\tlearn: 0.5142715\ttotal: 2.33s\tremaining: 3.23s\n",
            "419:\tlearn: 0.5141280\ttotal: 2.34s\tremaining: 3.23s\n",
            "420:\tlearn: 0.5139420\ttotal: 2.34s\tremaining: 3.22s\n",
            "421:\tlearn: 0.5136207\ttotal: 2.35s\tremaining: 3.22s\n",
            "422:\tlearn: 0.5134496\ttotal: 2.35s\tremaining: 3.21s\n",
            "423:\tlearn: 0.5132062\ttotal: 2.36s\tremaining: 3.2s\n",
            "424:\tlearn: 0.5129354\ttotal: 2.36s\tremaining: 3.2s\n",
            "425:\tlearn: 0.5128435\ttotal: 2.37s\tremaining: 3.19s\n",
            "426:\tlearn: 0.5124469\ttotal: 2.37s\tremaining: 3.19s\n",
            "427:\tlearn: 0.5122766\ttotal: 2.38s\tremaining: 3.18s\n",
            "428:\tlearn: 0.5120589\ttotal: 2.38s\tremaining: 3.17s\n",
            "429:\tlearn: 0.5118078\ttotal: 2.39s\tremaining: 3.17s\n",
            "430:\tlearn: 0.5115564\ttotal: 2.4s\tremaining: 3.16s\n",
            "431:\tlearn: 0.5111684\ttotal: 2.4s\tremaining: 3.16s\n",
            "432:\tlearn: 0.5110656\ttotal: 2.41s\tremaining: 3.15s\n",
            "433:\tlearn: 0.5109081\ttotal: 2.41s\tremaining: 3.15s\n",
            "434:\tlearn: 0.5107771\ttotal: 2.42s\tremaining: 3.14s\n",
            "435:\tlearn: 0.5106205\ttotal: 2.42s\tremaining: 3.13s\n",
            "436:\tlearn: 0.5104236\ttotal: 2.43s\tremaining: 3.13s\n",
            "437:\tlearn: 0.5102011\ttotal: 2.43s\tremaining: 3.12s\n",
            "438:\tlearn: 0.5100049\ttotal: 2.44s\tremaining: 3.12s\n",
            "439:\tlearn: 0.5099054\ttotal: 2.44s\tremaining: 3.11s\n",
            "440:\tlearn: 0.5097088\ttotal: 2.45s\tremaining: 3.1s\n",
            "441:\tlearn: 0.5095055\ttotal: 2.45s\tremaining: 3.1s\n",
            "442:\tlearn: 0.5094081\ttotal: 2.46s\tremaining: 3.09s\n",
            "443:\tlearn: 0.5092458\ttotal: 2.46s\tremaining: 3.08s\n",
            "444:\tlearn: 0.5090593\ttotal: 2.47s\tremaining: 3.08s\n",
            "445:\tlearn: 0.5088856\ttotal: 2.47s\tremaining: 3.07s\n",
            "446:\tlearn: 0.5084341\ttotal: 2.48s\tremaining: 3.07s\n",
            "447:\tlearn: 0.5082774\ttotal: 2.49s\tremaining: 3.06s\n",
            "448:\tlearn: 0.5079574\ttotal: 2.49s\tremaining: 3.06s\n",
            "449:\tlearn: 0.5078138\ttotal: 2.5s\tremaining: 3.05s\n",
            "450:\tlearn: 0.5076645\ttotal: 2.5s\tremaining: 3.04s\n",
            "451:\tlearn: 0.5075229\ttotal: 2.51s\tremaining: 3.04s\n",
            "452:\tlearn: 0.5072630\ttotal: 2.51s\tremaining: 3.03s\n",
            "453:\tlearn: 0.5071043\ttotal: 2.52s\tremaining: 3.03s\n",
            "454:\tlearn: 0.5068705\ttotal: 2.53s\tremaining: 3.03s\n",
            "455:\tlearn: 0.5067164\ttotal: 2.54s\tremaining: 3.02s\n",
            "456:\tlearn: 0.5064669\ttotal: 2.54s\tremaining: 3.02s\n",
            "457:\tlearn: 0.5062530\ttotal: 2.54s\tremaining: 3.01s\n",
            "458:\tlearn: 0.5060715\ttotal: 2.55s\tremaining: 3s\n",
            "459:\tlearn: 0.5058242\ttotal: 2.56s\tremaining: 3s\n",
            "460:\tlearn: 0.5056274\ttotal: 2.56s\tremaining: 2.99s\n",
            "461:\tlearn: 0.5054914\ttotal: 2.56s\tremaining: 2.99s\n",
            "462:\tlearn: 0.5054170\ttotal: 2.57s\tremaining: 2.98s\n",
            "463:\tlearn: 0.5052463\ttotal: 2.57s\tremaining: 2.97s\n",
            "464:\tlearn: 0.5051104\ttotal: 2.58s\tremaining: 2.97s\n",
            "465:\tlearn: 0.5050157\ttotal: 2.58s\tremaining: 2.96s\n",
            "466:\tlearn: 0.5048265\ttotal: 2.59s\tremaining: 2.96s\n",
            "467:\tlearn: 0.5046463\ttotal: 2.6s\tremaining: 2.95s\n",
            "468:\tlearn: 0.5045455\ttotal: 2.6s\tremaining: 2.94s\n",
            "469:\tlearn: 0.5044459\ttotal: 2.61s\tremaining: 2.94s\n",
            "470:\tlearn: 0.5042805\ttotal: 2.61s\tremaining: 2.93s\n",
            "471:\tlearn: 0.5040940\ttotal: 2.62s\tremaining: 2.93s\n",
            "472:\tlearn: 0.5036848\ttotal: 2.62s\tremaining: 2.92s\n",
            "473:\tlearn: 0.5035270\ttotal: 2.63s\tremaining: 2.91s\n",
            "474:\tlearn: 0.5033575\ttotal: 2.63s\tremaining: 2.91s\n",
            "475:\tlearn: 0.5030913\ttotal: 2.63s\tremaining: 2.9s\n",
            "476:\tlearn: 0.5029365\ttotal: 2.64s\tremaining: 2.89s\n",
            "477:\tlearn: 0.5028439\ttotal: 2.64s\tremaining: 2.89s\n",
            "478:\tlearn: 0.5025426\ttotal: 2.65s\tremaining: 2.88s\n",
            "479:\tlearn: 0.5023125\ttotal: 2.65s\tremaining: 2.88s\n",
            "480:\tlearn: 0.5021646\ttotal: 2.66s\tremaining: 2.87s\n",
            "481:\tlearn: 0.5020816\ttotal: 2.66s\tremaining: 2.86s\n",
            "482:\tlearn: 0.5017904\ttotal: 2.67s\tremaining: 2.86s\n",
            "483:\tlearn: 0.5015747\ttotal: 2.67s\tremaining: 2.85s\n",
            "484:\tlearn: 0.5013693\ttotal: 2.68s\tremaining: 2.85s\n",
            "485:\tlearn: 0.5012492\ttotal: 2.68s\tremaining: 2.84s\n",
            "486:\tlearn: 0.5009964\ttotal: 2.69s\tremaining: 2.83s\n",
            "487:\tlearn: 0.5008647\ttotal: 2.69s\tremaining: 2.83s\n",
            "488:\tlearn: 0.5006964\ttotal: 2.7s\tremaining: 2.82s\n",
            "489:\tlearn: 0.5004710\ttotal: 2.71s\tremaining: 2.81s\n",
            "490:\tlearn: 0.5002656\ttotal: 2.71s\tremaining: 2.81s\n",
            "491:\tlearn: 0.5000462\ttotal: 2.71s\tremaining: 2.8s\n",
            "492:\tlearn: 0.4998523\ttotal: 2.72s\tremaining: 2.8s\n",
            "493:\tlearn: 0.4996514\ttotal: 2.73s\tremaining: 2.8s\n",
            "494:\tlearn: 0.4993742\ttotal: 2.73s\tremaining: 2.79s\n",
            "495:\tlearn: 0.4991444\ttotal: 2.74s\tremaining: 2.78s\n",
            "496:\tlearn: 0.4989649\ttotal: 2.74s\tremaining: 2.78s\n",
            "497:\tlearn: 0.4987054\ttotal: 2.75s\tremaining: 2.77s\n",
            "498:\tlearn: 0.4986287\ttotal: 2.75s\tremaining: 2.77s\n",
            "499:\tlearn: 0.4983673\ttotal: 2.76s\tremaining: 2.76s\n",
            "500:\tlearn: 0.4981896\ttotal: 2.77s\tremaining: 2.75s\n",
            "501:\tlearn: 0.4980117\ttotal: 2.77s\tremaining: 2.75s\n",
            "502:\tlearn: 0.4977561\ttotal: 2.77s\tremaining: 2.74s\n",
            "503:\tlearn: 0.4975769\ttotal: 2.78s\tremaining: 2.74s\n",
            "504:\tlearn: 0.4973540\ttotal: 2.79s\tremaining: 2.73s\n",
            "505:\tlearn: 0.4971841\ttotal: 2.79s\tremaining: 2.73s\n",
            "506:\tlearn: 0.4970205\ttotal: 2.8s\tremaining: 2.72s\n",
            "507:\tlearn: 0.4969195\ttotal: 2.8s\tremaining: 2.71s\n",
            "508:\tlearn: 0.4965038\ttotal: 2.81s\tremaining: 2.71s\n",
            "509:\tlearn: 0.4963109\ttotal: 2.81s\tremaining: 2.7s\n",
            "510:\tlearn: 0.4961483\ttotal: 2.82s\tremaining: 2.69s\n",
            "511:\tlearn: 0.4959961\ttotal: 2.82s\tremaining: 2.69s\n",
            "512:\tlearn: 0.4958938\ttotal: 2.83s\tremaining: 2.68s\n",
            "513:\tlearn: 0.4957932\ttotal: 2.83s\tremaining: 2.68s\n",
            "514:\tlearn: 0.4955238\ttotal: 2.83s\tremaining: 2.67s\n",
            "515:\tlearn: 0.4953760\ttotal: 2.84s\tremaining: 2.66s\n",
            "516:\tlearn: 0.4952184\ttotal: 2.85s\tremaining: 2.66s\n",
            "517:\tlearn: 0.4950192\ttotal: 2.85s\tremaining: 2.65s\n",
            "518:\tlearn: 0.4947614\ttotal: 2.86s\tremaining: 2.65s\n",
            "519:\tlearn: 0.4946878\ttotal: 2.86s\tremaining: 2.64s\n",
            "520:\tlearn: 0.4944964\ttotal: 2.87s\tremaining: 2.63s\n",
            "521:\tlearn: 0.4944186\ttotal: 2.87s\tremaining: 2.63s\n",
            "522:\tlearn: 0.4943127\ttotal: 2.88s\tremaining: 2.62s\n",
            "523:\tlearn: 0.4941644\ttotal: 2.88s\tremaining: 2.62s\n",
            "524:\tlearn: 0.4939359\ttotal: 2.89s\tremaining: 2.61s\n",
            "525:\tlearn: 0.4937979\ttotal: 2.89s\tremaining: 2.61s\n",
            "526:\tlearn: 0.4936831\ttotal: 2.9s\tremaining: 2.6s\n",
            "527:\tlearn: 0.4935272\ttotal: 2.9s\tremaining: 2.59s\n",
            "528:\tlearn: 0.4933286\ttotal: 2.91s\tremaining: 2.59s\n",
            "529:\tlearn: 0.4931463\ttotal: 2.91s\tremaining: 2.58s\n",
            "530:\tlearn: 0.4929744\ttotal: 2.92s\tremaining: 2.58s\n",
            "531:\tlearn: 0.4928806\ttotal: 2.92s\tremaining: 2.57s\n",
            "532:\tlearn: 0.4927351\ttotal: 2.93s\tremaining: 2.57s\n",
            "533:\tlearn: 0.4925112\ttotal: 2.94s\tremaining: 2.57s\n",
            "534:\tlearn: 0.4923319\ttotal: 2.95s\tremaining: 2.56s\n",
            "535:\tlearn: 0.4922005\ttotal: 2.96s\tremaining: 2.56s\n",
            "536:\tlearn: 0.4920709\ttotal: 2.96s\tremaining: 2.55s\n",
            "537:\tlearn: 0.4919688\ttotal: 2.97s\tremaining: 2.55s\n",
            "538:\tlearn: 0.4918334\ttotal: 2.97s\tremaining: 2.54s\n",
            "539:\tlearn: 0.4917065\ttotal: 2.98s\tremaining: 2.54s\n",
            "540:\tlearn: 0.4915737\ttotal: 2.98s\tremaining: 2.53s\n",
            "541:\tlearn: 0.4914732\ttotal: 2.99s\tremaining: 2.52s\n",
            "542:\tlearn: 0.4914009\ttotal: 2.99s\tremaining: 2.52s\n",
            "543:\tlearn: 0.4912901\ttotal: 3s\tremaining: 2.51s\n",
            "544:\tlearn: 0.4910400\ttotal: 3s\tremaining: 2.51s\n",
            "545:\tlearn: 0.4908427\ttotal: 3.01s\tremaining: 2.5s\n",
            "546:\tlearn: 0.4906348\ttotal: 3.01s\tremaining: 2.49s\n",
            "547:\tlearn: 0.4904384\ttotal: 3.02s\tremaining: 2.49s\n",
            "548:\tlearn: 0.4903458\ttotal: 3.02s\tremaining: 2.48s\n",
            "549:\tlearn: 0.4901617\ttotal: 3.03s\tremaining: 2.48s\n",
            "550:\tlearn: 0.4898606\ttotal: 3.03s\tremaining: 2.47s\n",
            "551:\tlearn: 0.4896025\ttotal: 3.04s\tremaining: 2.46s\n",
            "552:\tlearn: 0.4895287\ttotal: 3.04s\tremaining: 2.46s\n",
            "553:\tlearn: 0.4894030\ttotal: 3.05s\tremaining: 2.45s\n",
            "554:\tlearn: 0.4891391\ttotal: 3.05s\tremaining: 2.45s\n",
            "555:\tlearn: 0.4889235\ttotal: 3.06s\tremaining: 2.44s\n",
            "556:\tlearn: 0.4888292\ttotal: 3.06s\tremaining: 2.44s\n",
            "557:\tlearn: 0.4887219\ttotal: 3.07s\tremaining: 2.43s\n",
            "558:\tlearn: 0.4885267\ttotal: 3.07s\tremaining: 2.42s\n",
            "559:\tlearn: 0.4883443\ttotal: 3.08s\tremaining: 2.42s\n",
            "560:\tlearn: 0.4880743\ttotal: 3.08s\tremaining: 2.41s\n",
            "561:\tlearn: 0.4879099\ttotal: 3.09s\tremaining: 2.41s\n",
            "562:\tlearn: 0.4877663\ttotal: 3.1s\tremaining: 2.4s\n",
            "563:\tlearn: 0.4874936\ttotal: 3.1s\tremaining: 2.4s\n",
            "564:\tlearn: 0.4873554\ttotal: 3.11s\tremaining: 2.39s\n",
            "565:\tlearn: 0.4871928\ttotal: 3.11s\tremaining: 2.39s\n",
            "566:\tlearn: 0.4870073\ttotal: 3.12s\tremaining: 2.38s\n",
            "567:\tlearn: 0.4868848\ttotal: 3.13s\tremaining: 2.38s\n",
            "568:\tlearn: 0.4867868\ttotal: 3.13s\tremaining: 2.37s\n",
            "569:\tlearn: 0.4865939\ttotal: 3.14s\tremaining: 2.37s\n",
            "570:\tlearn: 0.4864465\ttotal: 3.14s\tremaining: 2.36s\n",
            "571:\tlearn: 0.4862911\ttotal: 3.15s\tremaining: 2.35s\n",
            "572:\tlearn: 0.4861246\ttotal: 3.15s\tremaining: 2.35s\n",
            "573:\tlearn: 0.4859785\ttotal: 3.16s\tremaining: 2.34s\n",
            "574:\tlearn: 0.4857708\ttotal: 3.16s\tremaining: 2.34s\n",
            "575:\tlearn: 0.4855999\ttotal: 3.17s\tremaining: 2.33s\n",
            "576:\tlearn: 0.4854162\ttotal: 3.17s\tremaining: 2.33s\n",
            "577:\tlearn: 0.4851514\ttotal: 3.18s\tremaining: 2.32s\n",
            "578:\tlearn: 0.4849354\ttotal: 3.18s\tremaining: 2.31s\n",
            "579:\tlearn: 0.4847575\ttotal: 3.19s\tremaining: 2.31s\n",
            "580:\tlearn: 0.4846366\ttotal: 3.19s\tremaining: 2.3s\n",
            "581:\tlearn: 0.4844068\ttotal: 3.2s\tremaining: 2.3s\n",
            "582:\tlearn: 0.4843209\ttotal: 3.2s\tremaining: 2.29s\n",
            "583:\tlearn: 0.4841602\ttotal: 3.21s\tremaining: 2.29s\n",
            "584:\tlearn: 0.4840176\ttotal: 3.21s\tremaining: 2.28s\n",
            "585:\tlearn: 0.4838340\ttotal: 3.22s\tremaining: 2.27s\n",
            "586:\tlearn: 0.4836258\ttotal: 3.22s\tremaining: 2.27s\n",
            "587:\tlearn: 0.4834973\ttotal: 3.23s\tremaining: 2.26s\n",
            "588:\tlearn: 0.4834077\ttotal: 3.23s\tremaining: 2.26s\n",
            "589:\tlearn: 0.4832951\ttotal: 3.24s\tremaining: 2.25s\n",
            "590:\tlearn: 0.4831109\ttotal: 3.24s\tremaining: 2.24s\n",
            "591:\tlearn: 0.4828730\ttotal: 3.25s\tremaining: 2.24s\n",
            "592:\tlearn: 0.4825516\ttotal: 3.25s\tremaining: 2.23s\n",
            "593:\tlearn: 0.4823193\ttotal: 3.26s\tremaining: 2.23s\n",
            "594:\tlearn: 0.4821858\ttotal: 3.26s\tremaining: 2.22s\n",
            "595:\tlearn: 0.4820570\ttotal: 3.27s\tremaining: 2.21s\n",
            "596:\tlearn: 0.4818105\ttotal: 3.27s\tremaining: 2.21s\n",
            "597:\tlearn: 0.4815796\ttotal: 3.28s\tremaining: 2.2s\n",
            "598:\tlearn: 0.4813885\ttotal: 3.28s\tremaining: 2.2s\n",
            "599:\tlearn: 0.4812150\ttotal: 3.29s\tremaining: 2.19s\n",
            "600:\tlearn: 0.4810261\ttotal: 3.29s\tremaining: 2.19s\n",
            "601:\tlearn: 0.4809220\ttotal: 3.3s\tremaining: 2.18s\n",
            "602:\tlearn: 0.4808073\ttotal: 3.3s\tremaining: 2.17s\n",
            "603:\tlearn: 0.4805826\ttotal: 3.31s\tremaining: 2.17s\n",
            "604:\tlearn: 0.4804654\ttotal: 3.31s\tremaining: 2.16s\n",
            "605:\tlearn: 0.4803292\ttotal: 3.32s\tremaining: 2.16s\n",
            "606:\tlearn: 0.4801027\ttotal: 3.33s\tremaining: 2.15s\n",
            "607:\tlearn: 0.4800161\ttotal: 3.33s\tremaining: 2.15s\n",
            "608:\tlearn: 0.4799521\ttotal: 3.34s\tremaining: 2.14s\n",
            "609:\tlearn: 0.4798443\ttotal: 3.34s\tremaining: 2.14s\n",
            "610:\tlearn: 0.4797083\ttotal: 3.35s\tremaining: 2.13s\n",
            "611:\tlearn: 0.4795565\ttotal: 3.35s\tremaining: 2.13s\n",
            "612:\tlearn: 0.4794379\ttotal: 3.37s\tremaining: 2.13s\n",
            "613:\tlearn: 0.4792076\ttotal: 3.37s\tremaining: 2.12s\n",
            "614:\tlearn: 0.4789916\ttotal: 3.38s\tremaining: 2.11s\n",
            "615:\tlearn: 0.4788277\ttotal: 3.38s\tremaining: 2.11s\n",
            "616:\tlearn: 0.4786546\ttotal: 3.39s\tremaining: 2.1s\n",
            "617:\tlearn: 0.4784692\ttotal: 3.39s\tremaining: 2.1s\n",
            "618:\tlearn: 0.4783166\ttotal: 3.4s\tremaining: 2.09s\n",
            "619:\tlearn: 0.4780745\ttotal: 3.4s\tremaining: 2.09s\n",
            "620:\tlearn: 0.4778340\ttotal: 3.41s\tremaining: 2.08s\n",
            "621:\tlearn: 0.4776216\ttotal: 3.42s\tremaining: 2.08s\n",
            "622:\tlearn: 0.4773805\ttotal: 3.43s\tremaining: 2.07s\n",
            "623:\tlearn: 0.4771694\ttotal: 3.43s\tremaining: 2.07s\n",
            "624:\tlearn: 0.4769875\ttotal: 3.44s\tremaining: 2.06s\n",
            "625:\tlearn: 0.4766683\ttotal: 3.44s\tremaining: 2.06s\n",
            "626:\tlearn: 0.4763998\ttotal: 3.45s\tremaining: 2.05s\n",
            "627:\tlearn: 0.4761982\ttotal: 3.45s\tremaining: 2.05s\n",
            "628:\tlearn: 0.4760693\ttotal: 3.46s\tremaining: 2.04s\n",
            "629:\tlearn: 0.4759031\ttotal: 3.46s\tremaining: 2.04s\n",
            "630:\tlearn: 0.4757580\ttotal: 3.47s\tremaining: 2.03s\n",
            "631:\tlearn: 0.4755265\ttotal: 3.48s\tremaining: 2.02s\n",
            "632:\tlearn: 0.4753724\ttotal: 3.48s\tremaining: 2.02s\n",
            "633:\tlearn: 0.4752390\ttotal: 3.49s\tremaining: 2.01s\n",
            "634:\tlearn: 0.4751594\ttotal: 3.49s\tremaining: 2.01s\n",
            "635:\tlearn: 0.4750395\ttotal: 3.5s\tremaining: 2s\n",
            "636:\tlearn: 0.4748825\ttotal: 3.5s\tremaining: 2s\n",
            "637:\tlearn: 0.4747320\ttotal: 3.51s\tremaining: 1.99s\n",
            "638:\tlearn: 0.4745992\ttotal: 3.52s\tremaining: 1.99s\n",
            "639:\tlearn: 0.4743800\ttotal: 3.52s\tremaining: 1.98s\n",
            "640:\tlearn: 0.4741445\ttotal: 3.52s\tremaining: 1.97s\n",
            "641:\tlearn: 0.4740557\ttotal: 3.53s\tremaining: 1.97s\n",
            "642:\tlearn: 0.4739033\ttotal: 3.53s\tremaining: 1.96s\n",
            "643:\tlearn: 0.4737595\ttotal: 3.54s\tremaining: 1.96s\n",
            "644:\tlearn: 0.4735589\ttotal: 3.54s\tremaining: 1.95s\n",
            "645:\tlearn: 0.4734171\ttotal: 3.55s\tremaining: 1.94s\n",
            "646:\tlearn: 0.4733182\ttotal: 3.55s\tremaining: 1.94s\n",
            "647:\tlearn: 0.4731168\ttotal: 3.56s\tremaining: 1.93s\n",
            "648:\tlearn: 0.4728392\ttotal: 3.56s\tremaining: 1.93s\n",
            "649:\tlearn: 0.4726628\ttotal: 3.57s\tremaining: 1.92s\n",
            "650:\tlearn: 0.4724511\ttotal: 3.57s\tremaining: 1.92s\n",
            "651:\tlearn: 0.4722780\ttotal: 3.58s\tremaining: 1.91s\n",
            "652:\tlearn: 0.4721409\ttotal: 3.58s\tremaining: 1.9s\n",
            "653:\tlearn: 0.4718045\ttotal: 3.59s\tremaining: 1.9s\n",
            "654:\tlearn: 0.4715880\ttotal: 3.59s\tremaining: 1.89s\n",
            "655:\tlearn: 0.4713638\ttotal: 3.6s\tremaining: 1.89s\n",
            "656:\tlearn: 0.4711803\ttotal: 3.6s\tremaining: 1.88s\n",
            "657:\tlearn: 0.4709546\ttotal: 3.61s\tremaining: 1.88s\n",
            "658:\tlearn: 0.4707812\ttotal: 3.61s\tremaining: 1.87s\n",
            "659:\tlearn: 0.4705276\ttotal: 3.62s\tremaining: 1.86s\n",
            "660:\tlearn: 0.4703931\ttotal: 3.62s\tremaining: 1.86s\n",
            "661:\tlearn: 0.4702883\ttotal: 3.63s\tremaining: 1.85s\n",
            "662:\tlearn: 0.4701427\ttotal: 3.63s\tremaining: 1.85s\n",
            "663:\tlearn: 0.4699533\ttotal: 3.64s\tremaining: 1.84s\n",
            "664:\tlearn: 0.4697430\ttotal: 3.64s\tremaining: 1.83s\n",
            "665:\tlearn: 0.4695340\ttotal: 3.65s\tremaining: 1.83s\n",
            "666:\tlearn: 0.4693439\ttotal: 3.65s\tremaining: 1.82s\n",
            "667:\tlearn: 0.4691453\ttotal: 3.66s\tremaining: 1.82s\n",
            "668:\tlearn: 0.4690290\ttotal: 3.67s\tremaining: 1.81s\n",
            "669:\tlearn: 0.4688317\ttotal: 3.67s\tremaining: 1.81s\n",
            "670:\tlearn: 0.4686449\ttotal: 3.67s\tremaining: 1.8s\n",
            "671:\tlearn: 0.4684975\ttotal: 3.68s\tremaining: 1.8s\n",
            "672:\tlearn: 0.4683787\ttotal: 3.69s\tremaining: 1.79s\n",
            "673:\tlearn: 0.4681742\ttotal: 3.69s\tremaining: 1.78s\n",
            "674:\tlearn: 0.4679242\ttotal: 3.69s\tremaining: 1.78s\n",
            "675:\tlearn: 0.4676697\ttotal: 3.7s\tremaining: 1.77s\n",
            "676:\tlearn: 0.4675253\ttotal: 3.71s\tremaining: 1.77s\n",
            "677:\tlearn: 0.4673586\ttotal: 3.72s\tremaining: 1.76s\n",
            "678:\tlearn: 0.4671913\ttotal: 3.72s\tremaining: 1.76s\n",
            "679:\tlearn: 0.4669926\ttotal: 3.73s\tremaining: 1.75s\n",
            "680:\tlearn: 0.4668029\ttotal: 3.73s\tremaining: 1.75s\n",
            "681:\tlearn: 0.4665864\ttotal: 3.74s\tremaining: 1.74s\n",
            "682:\tlearn: 0.4663437\ttotal: 3.74s\tremaining: 1.74s\n",
            "683:\tlearn: 0.4661897\ttotal: 3.75s\tremaining: 1.73s\n",
            "684:\tlearn: 0.4660104\ttotal: 3.75s\tremaining: 1.73s\n",
            "685:\tlearn: 0.4658093\ttotal: 3.76s\tremaining: 1.72s\n",
            "686:\tlearn: 0.4656814\ttotal: 3.76s\tremaining: 1.71s\n",
            "687:\tlearn: 0.4654577\ttotal: 3.77s\tremaining: 1.71s\n",
            "688:\tlearn: 0.4652197\ttotal: 3.77s\tremaining: 1.7s\n",
            "689:\tlearn: 0.4650703\ttotal: 3.78s\tremaining: 1.7s\n",
            "690:\tlearn: 0.4649006\ttotal: 3.78s\tremaining: 1.69s\n",
            "691:\tlearn: 0.4647263\ttotal: 3.79s\tremaining: 1.69s\n",
            "692:\tlearn: 0.4645786\ttotal: 3.79s\tremaining: 1.68s\n",
            "693:\tlearn: 0.4643267\ttotal: 3.8s\tremaining: 1.67s\n",
            "694:\tlearn: 0.4641799\ttotal: 3.8s\tremaining: 1.67s\n",
            "695:\tlearn: 0.4640770\ttotal: 3.81s\tremaining: 1.66s\n",
            "696:\tlearn: 0.4639340\ttotal: 3.81s\tremaining: 1.66s\n",
            "697:\tlearn: 0.4637571\ttotal: 3.82s\tremaining: 1.65s\n",
            "698:\tlearn: 0.4635193\ttotal: 3.82s\tremaining: 1.65s\n",
            "699:\tlearn: 0.4632299\ttotal: 3.83s\tremaining: 1.64s\n",
            "700:\tlearn: 0.4629816\ttotal: 3.83s\tremaining: 1.63s\n",
            "701:\tlearn: 0.4627879\ttotal: 3.84s\tremaining: 1.63s\n",
            "702:\tlearn: 0.4625672\ttotal: 3.84s\tremaining: 1.62s\n",
            "703:\tlearn: 0.4624761\ttotal: 3.85s\tremaining: 1.62s\n",
            "704:\tlearn: 0.4623853\ttotal: 3.85s\tremaining: 1.61s\n",
            "705:\tlearn: 0.4621957\ttotal: 3.86s\tremaining: 1.61s\n",
            "706:\tlearn: 0.4619871\ttotal: 3.86s\tremaining: 1.6s\n",
            "707:\tlearn: 0.4617277\ttotal: 3.87s\tremaining: 1.59s\n",
            "708:\tlearn: 0.4615451\ttotal: 3.87s\tremaining: 1.59s\n",
            "709:\tlearn: 0.4613551\ttotal: 3.88s\tremaining: 1.58s\n",
            "710:\tlearn: 0.4611295\ttotal: 3.88s\tremaining: 1.58s\n",
            "711:\tlearn: 0.4609632\ttotal: 3.89s\tremaining: 1.57s\n",
            "712:\tlearn: 0.4607515\ttotal: 3.89s\tremaining: 1.57s\n",
            "713:\tlearn: 0.4605527\ttotal: 3.9s\tremaining: 1.56s\n",
            "714:\tlearn: 0.4604100\ttotal: 3.91s\tremaining: 1.56s\n",
            "715:\tlearn: 0.4602780\ttotal: 3.93s\tremaining: 1.56s\n",
            "716:\tlearn: 0.4601805\ttotal: 3.93s\tremaining: 1.55s\n",
            "717:\tlearn: 0.4599186\ttotal: 3.94s\tremaining: 1.55s\n",
            "718:\tlearn: 0.4598245\ttotal: 3.94s\tremaining: 1.54s\n",
            "719:\tlearn: 0.4597639\ttotal: 3.95s\tremaining: 1.54s\n",
            "720:\tlearn: 0.4595244\ttotal: 3.96s\tremaining: 1.53s\n",
            "721:\tlearn: 0.4593386\ttotal: 3.96s\tremaining: 1.52s\n",
            "722:\tlearn: 0.4592266\ttotal: 3.96s\tremaining: 1.52s\n",
            "723:\tlearn: 0.4590514\ttotal: 3.97s\tremaining: 1.51s\n",
            "724:\tlearn: 0.4589049\ttotal: 3.98s\tremaining: 1.51s\n",
            "725:\tlearn: 0.4587525\ttotal: 3.98s\tremaining: 1.5s\n",
            "726:\tlearn: 0.4585865\ttotal: 3.99s\tremaining: 1.5s\n",
            "727:\tlearn: 0.4584228\ttotal: 3.99s\tremaining: 1.49s\n",
            "728:\tlearn: 0.4581011\ttotal: 4s\tremaining: 1.49s\n",
            "729:\tlearn: 0.4580068\ttotal: 4s\tremaining: 1.48s\n",
            "730:\tlearn: 0.4577396\ttotal: 4.01s\tremaining: 1.47s\n",
            "731:\tlearn: 0.4576202\ttotal: 4.01s\tremaining: 1.47s\n",
            "732:\tlearn: 0.4575179\ttotal: 4.02s\tremaining: 1.46s\n",
            "733:\tlearn: 0.4573652\ttotal: 4.02s\tremaining: 1.46s\n",
            "734:\tlearn: 0.4572393\ttotal: 4.03s\tremaining: 1.45s\n",
            "735:\tlearn: 0.4570541\ttotal: 4.03s\tremaining: 1.45s\n",
            "736:\tlearn: 0.4568661\ttotal: 4.04s\tremaining: 1.44s\n",
            "737:\tlearn: 0.4567606\ttotal: 4.04s\tremaining: 1.44s\n",
            "738:\tlearn: 0.4565726\ttotal: 4.05s\tremaining: 1.43s\n",
            "739:\tlearn: 0.4563613\ttotal: 4.05s\tremaining: 1.42s\n",
            "740:\tlearn: 0.4561845\ttotal: 4.06s\tremaining: 1.42s\n",
            "741:\tlearn: 0.4559905\ttotal: 4.06s\tremaining: 1.41s\n",
            "742:\tlearn: 0.4557435\ttotal: 4.07s\tremaining: 1.41s\n",
            "743:\tlearn: 0.4555967\ttotal: 4.07s\tremaining: 1.4s\n",
            "744:\tlearn: 0.4554066\ttotal: 4.08s\tremaining: 1.4s\n",
            "745:\tlearn: 0.4552945\ttotal: 4.08s\tremaining: 1.39s\n",
            "746:\tlearn: 0.4551362\ttotal: 4.09s\tremaining: 1.38s\n",
            "747:\tlearn: 0.4548919\ttotal: 4.09s\tremaining: 1.38s\n",
            "748:\tlearn: 0.4546539\ttotal: 4.1s\tremaining: 1.37s\n",
            "749:\tlearn: 0.4544321\ttotal: 4.1s\tremaining: 1.37s\n",
            "750:\tlearn: 0.4542755\ttotal: 4.11s\tremaining: 1.36s\n",
            "751:\tlearn: 0.4541584\ttotal: 4.12s\tremaining: 1.36s\n",
            "752:\tlearn: 0.4539739\ttotal: 4.12s\tremaining: 1.35s\n",
            "753:\tlearn: 0.4537582\ttotal: 4.13s\tremaining: 1.35s\n",
            "754:\tlearn: 0.4536398\ttotal: 4.13s\tremaining: 1.34s\n",
            "755:\tlearn: 0.4534316\ttotal: 4.14s\tremaining: 1.34s\n",
            "756:\tlearn: 0.4531776\ttotal: 4.14s\tremaining: 1.33s\n",
            "757:\tlearn: 0.4530075\ttotal: 4.15s\tremaining: 1.32s\n",
            "758:\tlearn: 0.4528285\ttotal: 4.15s\tremaining: 1.32s\n",
            "759:\tlearn: 0.4526096\ttotal: 4.16s\tremaining: 1.31s\n",
            "760:\tlearn: 0.4522958\ttotal: 4.16s\tremaining: 1.31s\n",
            "761:\tlearn: 0.4521590\ttotal: 4.17s\tremaining: 1.3s\n",
            "762:\tlearn: 0.4519678\ttotal: 4.17s\tremaining: 1.3s\n",
            "763:\tlearn: 0.4516821\ttotal: 4.18s\tremaining: 1.29s\n",
            "764:\tlearn: 0.4515128\ttotal: 4.18s\tremaining: 1.28s\n",
            "765:\tlearn: 0.4512753\ttotal: 4.19s\tremaining: 1.28s\n",
            "766:\tlearn: 0.4510548\ttotal: 4.2s\tremaining: 1.27s\n",
            "767:\tlearn: 0.4508873\ttotal: 4.2s\tremaining: 1.27s\n",
            "768:\tlearn: 0.4507163\ttotal: 4.21s\tremaining: 1.26s\n",
            "769:\tlearn: 0.4505697\ttotal: 4.21s\tremaining: 1.26s\n",
            "770:\tlearn: 0.4503738\ttotal: 4.21s\tremaining: 1.25s\n",
            "771:\tlearn: 0.4501337\ttotal: 4.22s\tremaining: 1.25s\n",
            "772:\tlearn: 0.4499575\ttotal: 4.22s\tremaining: 1.24s\n",
            "773:\tlearn: 0.4497876\ttotal: 4.23s\tremaining: 1.24s\n",
            "774:\tlearn: 0.4496165\ttotal: 4.24s\tremaining: 1.23s\n",
            "775:\tlearn: 0.4494069\ttotal: 4.24s\tremaining: 1.22s\n",
            "776:\tlearn: 0.4491772\ttotal: 4.25s\tremaining: 1.22s\n",
            "777:\tlearn: 0.4489579\ttotal: 4.25s\tremaining: 1.21s\n",
            "778:\tlearn: 0.4488219\ttotal: 4.25s\tremaining: 1.21s\n",
            "779:\tlearn: 0.4485317\ttotal: 4.26s\tremaining: 1.2s\n",
            "780:\tlearn: 0.4483545\ttotal: 4.26s\tremaining: 1.2s\n",
            "781:\tlearn: 0.4480462\ttotal: 4.27s\tremaining: 1.19s\n",
            "782:\tlearn: 0.4477965\ttotal: 4.27s\tremaining: 1.18s\n",
            "783:\tlearn: 0.4475814\ttotal: 4.28s\tremaining: 1.18s\n",
            "784:\tlearn: 0.4474250\ttotal: 4.28s\tremaining: 1.17s\n",
            "785:\tlearn: 0.4471440\ttotal: 4.29s\tremaining: 1.17s\n",
            "786:\tlearn: 0.4469231\ttotal: 4.29s\tremaining: 1.16s\n",
            "787:\tlearn: 0.4466937\ttotal: 4.3s\tremaining: 1.16s\n",
            "788:\tlearn: 0.4464733\ttotal: 4.3s\tremaining: 1.15s\n",
            "789:\tlearn: 0.4461651\ttotal: 4.31s\tremaining: 1.15s\n",
            "790:\tlearn: 0.4460164\ttotal: 4.32s\tremaining: 1.14s\n",
            "791:\tlearn: 0.4457353\ttotal: 4.32s\tremaining: 1.14s\n",
            "792:\tlearn: 0.4455363\ttotal: 4.33s\tremaining: 1.13s\n",
            "793:\tlearn: 0.4453645\ttotal: 4.33s\tremaining: 1.12s\n",
            "794:\tlearn: 0.4451474\ttotal: 4.34s\tremaining: 1.12s\n",
            "795:\tlearn: 0.4449235\ttotal: 4.34s\tremaining: 1.11s\n",
            "796:\tlearn: 0.4447413\ttotal: 4.35s\tremaining: 1.11s\n",
            "797:\tlearn: 0.4444209\ttotal: 4.35s\tremaining: 1.1s\n",
            "798:\tlearn: 0.4443065\ttotal: 4.36s\tremaining: 1.1s\n",
            "799:\tlearn: 0.4439720\ttotal: 4.36s\tremaining: 1.09s\n",
            "800:\tlearn: 0.4437970\ttotal: 4.37s\tremaining: 1.08s\n",
            "801:\tlearn: 0.4436560\ttotal: 4.37s\tremaining: 1.08s\n",
            "802:\tlearn: 0.4435384\ttotal: 4.38s\tremaining: 1.07s\n",
            "803:\tlearn: 0.4433572\ttotal: 4.38s\tremaining: 1.07s\n",
            "804:\tlearn: 0.4431375\ttotal: 4.39s\tremaining: 1.06s\n",
            "805:\tlearn: 0.4429752\ttotal: 4.39s\tremaining: 1.06s\n",
            "806:\tlearn: 0.4427827\ttotal: 4.4s\tremaining: 1.05s\n",
            "807:\tlearn: 0.4426430\ttotal: 4.4s\tremaining: 1.05s\n",
            "808:\tlearn: 0.4425230\ttotal: 4.41s\tremaining: 1.04s\n",
            "809:\tlearn: 0.4422963\ttotal: 4.41s\tremaining: 1.03s\n",
            "810:\tlearn: 0.4419864\ttotal: 4.42s\tremaining: 1.03s\n",
            "811:\tlearn: 0.4418180\ttotal: 4.42s\tremaining: 1.02s\n",
            "812:\tlearn: 0.4416228\ttotal: 4.43s\tremaining: 1.02s\n",
            "813:\tlearn: 0.4414099\ttotal: 4.43s\tremaining: 1.01s\n",
            "814:\tlearn: 0.4411608\ttotal: 4.44s\tremaining: 1.01s\n",
            "815:\tlearn: 0.4409200\ttotal: 4.44s\tremaining: 1s\n",
            "816:\tlearn: 0.4407945\ttotal: 4.45s\tremaining: 996ms\n",
            "817:\tlearn: 0.4406675\ttotal: 4.45s\tremaining: 991ms\n",
            "818:\tlearn: 0.4404160\ttotal: 4.46s\tremaining: 985ms\n",
            "819:\tlearn: 0.4401209\ttotal: 4.46s\tremaining: 980ms\n",
            "820:\tlearn: 0.4399357\ttotal: 4.47s\tremaining: 974ms\n",
            "821:\tlearn: 0.4397840\ttotal: 4.47s\tremaining: 969ms\n",
            "822:\tlearn: 0.4396365\ttotal: 4.48s\tremaining: 963ms\n",
            "823:\tlearn: 0.4394991\ttotal: 4.48s\tremaining: 958ms\n",
            "824:\tlearn: 0.4391501\ttotal: 4.49s\tremaining: 952ms\n",
            "825:\tlearn: 0.4389249\ttotal: 4.49s\tremaining: 947ms\n",
            "826:\tlearn: 0.4386614\ttotal: 4.5s\tremaining: 941ms\n",
            "827:\tlearn: 0.4384941\ttotal: 4.5s\tremaining: 935ms\n",
            "828:\tlearn: 0.4383160\ttotal: 4.51s\tremaining: 931ms\n",
            "829:\tlearn: 0.4381477\ttotal: 4.52s\tremaining: 926ms\n",
            "830:\tlearn: 0.4380199\ttotal: 4.53s\tremaining: 920ms\n",
            "831:\tlearn: 0.4377563\ttotal: 4.53s\tremaining: 915ms\n",
            "832:\tlearn: 0.4376144\ttotal: 4.54s\tremaining: 909ms\n",
            "833:\tlearn: 0.4374481\ttotal: 4.54s\tremaining: 904ms\n",
            "834:\tlearn: 0.4372480\ttotal: 4.55s\tremaining: 898ms\n",
            "835:\tlearn: 0.4370344\ttotal: 4.55s\tremaining: 893ms\n",
            "836:\tlearn: 0.4368996\ttotal: 4.56s\tremaining: 888ms\n",
            "837:\tlearn: 0.4367260\ttotal: 4.56s\tremaining: 882ms\n",
            "838:\tlearn: 0.4365387\ttotal: 4.57s\tremaining: 877ms\n",
            "839:\tlearn: 0.4363366\ttotal: 4.57s\tremaining: 871ms\n",
            "840:\tlearn: 0.4362080\ttotal: 4.58s\tremaining: 866ms\n",
            "841:\tlearn: 0.4360452\ttotal: 4.58s\tremaining: 860ms\n",
            "842:\tlearn: 0.4358118\ttotal: 4.59s\tremaining: 855ms\n",
            "843:\tlearn: 0.4355479\ttotal: 4.59s\tremaining: 849ms\n",
            "844:\tlearn: 0.4353847\ttotal: 4.6s\tremaining: 844ms\n",
            "845:\tlearn: 0.4351986\ttotal: 4.6s\tremaining: 838ms\n",
            "846:\tlearn: 0.4349032\ttotal: 4.61s\tremaining: 833ms\n",
            "847:\tlearn: 0.4345018\ttotal: 4.61s\tremaining: 827ms\n",
            "848:\tlearn: 0.4343445\ttotal: 4.62s\tremaining: 822ms\n",
            "849:\tlearn: 0.4341747\ttotal: 4.62s\tremaining: 816ms\n",
            "850:\tlearn: 0.4339951\ttotal: 4.63s\tremaining: 811ms\n",
            "851:\tlearn: 0.4338009\ttotal: 4.63s\tremaining: 805ms\n",
            "852:\tlearn: 0.4335579\ttotal: 4.64s\tremaining: 800ms\n",
            "853:\tlearn: 0.4334532\ttotal: 4.64s\tremaining: 794ms\n",
            "854:\tlearn: 0.4333204\ttotal: 4.65s\tremaining: 789ms\n",
            "855:\tlearn: 0.4331494\ttotal: 4.65s\tremaining: 783ms\n",
            "856:\tlearn: 0.4329269\ttotal: 4.66s\tremaining: 778ms\n",
            "857:\tlearn: 0.4327214\ttotal: 4.66s\tremaining: 772ms\n",
            "858:\tlearn: 0.4325581\ttotal: 4.67s\tremaining: 767ms\n",
            "859:\tlearn: 0.4323325\ttotal: 4.67s\tremaining: 761ms\n",
            "860:\tlearn: 0.4320010\ttotal: 4.68s\tremaining: 756ms\n",
            "861:\tlearn: 0.4317831\ttotal: 4.68s\tremaining: 750ms\n",
            "862:\tlearn: 0.4316104\ttotal: 4.69s\tremaining: 745ms\n",
            "863:\tlearn: 0.4313861\ttotal: 4.69s\tremaining: 739ms\n",
            "864:\tlearn: 0.4311951\ttotal: 4.7s\tremaining: 733ms\n",
            "865:\tlearn: 0.4309610\ttotal: 4.7s\tremaining: 728ms\n",
            "866:\tlearn: 0.4307621\ttotal: 4.71s\tremaining: 723ms\n",
            "867:\tlearn: 0.4304227\ttotal: 4.72s\tremaining: 718ms\n",
            "868:\tlearn: 0.4302735\ttotal: 4.72s\tremaining: 712ms\n",
            "869:\tlearn: 0.4301550\ttotal: 4.73s\tremaining: 707ms\n",
            "870:\tlearn: 0.4300090\ttotal: 4.73s\tremaining: 701ms\n",
            "871:\tlearn: 0.4297396\ttotal: 4.74s\tremaining: 696ms\n",
            "872:\tlearn: 0.4295676\ttotal: 4.74s\tremaining: 690ms\n",
            "873:\tlearn: 0.4293295\ttotal: 4.75s\tremaining: 685ms\n",
            "874:\tlearn: 0.4290482\ttotal: 4.75s\tremaining: 679ms\n",
            "875:\tlearn: 0.4288811\ttotal: 4.76s\tremaining: 674ms\n",
            "876:\tlearn: 0.4287632\ttotal: 4.76s\tremaining: 668ms\n",
            "877:\tlearn: 0.4285793\ttotal: 4.77s\tremaining: 663ms\n",
            "878:\tlearn: 0.4284172\ttotal: 4.77s\tremaining: 657ms\n",
            "879:\tlearn: 0.4282796\ttotal: 4.78s\tremaining: 652ms\n",
            "880:\tlearn: 0.4280517\ttotal: 4.78s\tremaining: 646ms\n",
            "881:\tlearn: 0.4278875\ttotal: 4.79s\tremaining: 641ms\n",
            "882:\tlearn: 0.4277503\ttotal: 4.79s\tremaining: 635ms\n",
            "883:\tlearn: 0.4275139\ttotal: 4.8s\tremaining: 630ms\n",
            "884:\tlearn: 0.4272102\ttotal: 4.8s\tremaining: 624ms\n",
            "885:\tlearn: 0.4269996\ttotal: 4.81s\tremaining: 619ms\n",
            "886:\tlearn: 0.4268690\ttotal: 4.81s\tremaining: 613ms\n",
            "887:\tlearn: 0.4266263\ttotal: 4.82s\tremaining: 608ms\n",
            "888:\tlearn: 0.4264024\ttotal: 4.82s\tremaining: 602ms\n",
            "889:\tlearn: 0.4261695\ttotal: 4.83s\tremaining: 597ms\n",
            "890:\tlearn: 0.4260138\ttotal: 4.83s\tremaining: 592ms\n",
            "891:\tlearn: 0.4258388\ttotal: 4.84s\tremaining: 586ms\n",
            "892:\tlearn: 0.4256071\ttotal: 4.85s\tremaining: 581ms\n",
            "893:\tlearn: 0.4253643\ttotal: 4.85s\tremaining: 575ms\n",
            "894:\tlearn: 0.4250578\ttotal: 4.86s\tremaining: 570ms\n",
            "895:\tlearn: 0.4249490\ttotal: 4.86s\tremaining: 564ms\n",
            "896:\tlearn: 0.4247812\ttotal: 4.87s\tremaining: 559ms\n",
            "897:\tlearn: 0.4244603\ttotal: 4.87s\tremaining: 554ms\n",
            "898:\tlearn: 0.4242526\ttotal: 4.88s\tremaining: 548ms\n",
            "899:\tlearn: 0.4239779\ttotal: 4.88s\tremaining: 543ms\n",
            "900:\tlearn: 0.4237317\ttotal: 4.89s\tremaining: 537ms\n",
            "901:\tlearn: 0.4234782\ttotal: 4.9s\tremaining: 532ms\n",
            "902:\tlearn: 0.4232995\ttotal: 4.9s\tremaining: 527ms\n",
            "903:\tlearn: 0.4230840\ttotal: 4.91s\tremaining: 522ms\n",
            "904:\tlearn: 0.4228802\ttotal: 4.92s\tremaining: 517ms\n",
            "905:\tlearn: 0.4226640\ttotal: 4.93s\tremaining: 511ms\n",
            "906:\tlearn: 0.4225479\ttotal: 4.93s\tremaining: 506ms\n",
            "907:\tlearn: 0.4223662\ttotal: 4.94s\tremaining: 500ms\n",
            "908:\tlearn: 0.4221890\ttotal: 4.94s\tremaining: 495ms\n",
            "909:\tlearn: 0.4220863\ttotal: 4.95s\tremaining: 489ms\n",
            "910:\tlearn: 0.4218145\ttotal: 4.95s\tremaining: 484ms\n",
            "911:\tlearn: 0.4216933\ttotal: 4.96s\tremaining: 478ms\n",
            "912:\tlearn: 0.4215327\ttotal: 4.96s\tremaining: 473ms\n",
            "913:\tlearn: 0.4213352\ttotal: 4.97s\tremaining: 467ms\n",
            "914:\tlearn: 0.4211552\ttotal: 4.97s\tremaining: 462ms\n",
            "915:\tlearn: 0.4209921\ttotal: 4.98s\tremaining: 457ms\n",
            "916:\tlearn: 0.4208673\ttotal: 4.99s\tremaining: 451ms\n",
            "917:\tlearn: 0.4206830\ttotal: 4.99s\tremaining: 446ms\n",
            "918:\tlearn: 0.4204585\ttotal: 5s\tremaining: 440ms\n",
            "919:\tlearn: 0.4202250\ttotal: 5s\tremaining: 435ms\n",
            "920:\tlearn: 0.4201015\ttotal: 5.01s\tremaining: 430ms\n",
            "921:\tlearn: 0.4198944\ttotal: 5.01s\tremaining: 424ms\n",
            "922:\tlearn: 0.4197401\ttotal: 5.02s\tremaining: 419ms\n",
            "923:\tlearn: 0.4195807\ttotal: 5.02s\tremaining: 413ms\n",
            "924:\tlearn: 0.4192987\ttotal: 5.03s\tremaining: 408ms\n",
            "925:\tlearn: 0.4191541\ttotal: 5.04s\tremaining: 402ms\n",
            "926:\tlearn: 0.4189517\ttotal: 5.04s\tremaining: 397ms\n",
            "927:\tlearn: 0.4187814\ttotal: 5.05s\tremaining: 392ms\n",
            "928:\tlearn: 0.4186198\ttotal: 5.05s\tremaining: 386ms\n",
            "929:\tlearn: 0.4184871\ttotal: 5.06s\tremaining: 381ms\n",
            "930:\tlearn: 0.4182594\ttotal: 5.06s\tremaining: 375ms\n",
            "931:\tlearn: 0.4181094\ttotal: 5.07s\tremaining: 370ms\n",
            "932:\tlearn: 0.4178997\ttotal: 5.07s\tremaining: 364ms\n",
            "933:\tlearn: 0.4176485\ttotal: 5.08s\tremaining: 359ms\n",
            "934:\tlearn: 0.4174901\ttotal: 5.08s\tremaining: 353ms\n",
            "935:\tlearn: 0.4173202\ttotal: 5.09s\tremaining: 348ms\n",
            "936:\tlearn: 0.4172049\ttotal: 5.1s\tremaining: 343ms\n",
            "937:\tlearn: 0.4170072\ttotal: 5.1s\tremaining: 337ms\n",
            "938:\tlearn: 0.4168536\ttotal: 5.11s\tremaining: 332ms\n",
            "939:\tlearn: 0.4166492\ttotal: 5.12s\tremaining: 327ms\n",
            "940:\tlearn: 0.4164052\ttotal: 5.12s\tremaining: 321ms\n",
            "941:\tlearn: 0.4162177\ttotal: 5.13s\tremaining: 316ms\n",
            "942:\tlearn: 0.4160081\ttotal: 5.14s\tremaining: 311ms\n",
            "943:\tlearn: 0.4158833\ttotal: 5.14s\tremaining: 305ms\n",
            "944:\tlearn: 0.4157206\ttotal: 5.15s\tremaining: 300ms\n",
            "945:\tlearn: 0.4154671\ttotal: 5.15s\tremaining: 294ms\n",
            "946:\tlearn: 0.4152274\ttotal: 5.16s\tremaining: 289ms\n",
            "947:\tlearn: 0.4151012\ttotal: 5.16s\tremaining: 283ms\n",
            "948:\tlearn: 0.4148894\ttotal: 5.17s\tremaining: 278ms\n",
            "949:\tlearn: 0.4147627\ttotal: 5.18s\tremaining: 272ms\n",
            "950:\tlearn: 0.4145869\ttotal: 5.18s\tremaining: 267ms\n",
            "951:\tlearn: 0.4143919\ttotal: 5.19s\tremaining: 262ms\n",
            "952:\tlearn: 0.4142514\ttotal: 5.19s\tremaining: 256ms\n",
            "953:\tlearn: 0.4140773\ttotal: 5.2s\tremaining: 251ms\n",
            "954:\tlearn: 0.4138149\ttotal: 5.2s\tremaining: 245ms\n",
            "955:\tlearn: 0.4137027\ttotal: 5.21s\tremaining: 240ms\n",
            "956:\tlearn: 0.4135463\ttotal: 5.21s\tremaining: 234ms\n",
            "957:\tlearn: 0.4133724\ttotal: 5.22s\tremaining: 229ms\n",
            "958:\tlearn: 0.4131794\ttotal: 5.22s\tremaining: 223ms\n",
            "959:\tlearn: 0.4129383\ttotal: 5.23s\tremaining: 218ms\n",
            "960:\tlearn: 0.4127751\ttotal: 5.23s\tremaining: 212ms\n",
            "961:\tlearn: 0.4125447\ttotal: 5.24s\tremaining: 207ms\n",
            "962:\tlearn: 0.4124103\ttotal: 5.25s\tremaining: 202ms\n",
            "963:\tlearn: 0.4123050\ttotal: 5.25s\tremaining: 196ms\n",
            "964:\tlearn: 0.4121410\ttotal: 5.26s\tremaining: 191ms\n",
            "965:\tlearn: 0.4119662\ttotal: 5.26s\tremaining: 185ms\n",
            "966:\tlearn: 0.4117465\ttotal: 5.27s\tremaining: 180ms\n",
            "967:\tlearn: 0.4115833\ttotal: 5.27s\tremaining: 174ms\n",
            "968:\tlearn: 0.4113298\ttotal: 5.28s\tremaining: 169ms\n",
            "969:\tlearn: 0.4111718\ttotal: 5.28s\tremaining: 163ms\n",
            "970:\tlearn: 0.4109172\ttotal: 5.29s\tremaining: 158ms\n",
            "971:\tlearn: 0.4106511\ttotal: 5.29s\tremaining: 153ms\n",
            "972:\tlearn: 0.4103777\ttotal: 5.3s\tremaining: 147ms\n",
            "973:\tlearn: 0.4100731\ttotal: 5.31s\tremaining: 142ms\n",
            "974:\tlearn: 0.4099523\ttotal: 5.31s\tremaining: 136ms\n",
            "975:\tlearn: 0.4097804\ttotal: 5.32s\tremaining: 131ms\n",
            "976:\tlearn: 0.4095450\ttotal: 5.33s\tremaining: 125ms\n",
            "977:\tlearn: 0.4094270\ttotal: 5.33s\tremaining: 120ms\n",
            "978:\tlearn: 0.4092208\ttotal: 5.34s\tremaining: 114ms\n",
            "979:\tlearn: 0.4089562\ttotal: 5.34s\tremaining: 109ms\n",
            "980:\tlearn: 0.4088287\ttotal: 5.35s\tremaining: 104ms\n",
            "981:\tlearn: 0.4085710\ttotal: 5.36s\tremaining: 98.2ms\n",
            "982:\tlearn: 0.4083987\ttotal: 5.36s\tremaining: 92.7ms\n",
            "983:\tlearn: 0.4082965\ttotal: 5.37s\tremaining: 87.3ms\n",
            "984:\tlearn: 0.4080797\ttotal: 5.37s\tremaining: 81.8ms\n",
            "985:\tlearn: 0.4079526\ttotal: 5.38s\tremaining: 76.3ms\n",
            "986:\tlearn: 0.4078301\ttotal: 5.38s\tremaining: 70.9ms\n",
            "987:\tlearn: 0.4075862\ttotal: 5.39s\tremaining: 65.4ms\n",
            "988:\tlearn: 0.4074103\ttotal: 5.39s\tremaining: 60ms\n",
            "989:\tlearn: 0.4072824\ttotal: 5.4s\tremaining: 54.5ms\n",
            "990:\tlearn: 0.4071681\ttotal: 5.4s\tremaining: 49.1ms\n",
            "991:\tlearn: 0.4070011\ttotal: 5.41s\tremaining: 43.6ms\n",
            "992:\tlearn: 0.4067809\ttotal: 5.42s\tremaining: 38.2ms\n",
            "993:\tlearn: 0.4066760\ttotal: 5.42s\tremaining: 32.7ms\n",
            "994:\tlearn: 0.4064152\ttotal: 5.43s\tremaining: 27.3ms\n",
            "995:\tlearn: 0.4062729\ttotal: 5.44s\tremaining: 21.8ms\n",
            "996:\tlearn: 0.4061600\ttotal: 5.46s\tremaining: 16.4ms\n",
            "997:\tlearn: 0.4059415\ttotal: 5.47s\tremaining: 11ms\n",
            "998:\tlearn: 0.4056585\ttotal: 5.48s\tremaining: 5.49ms\n",
            "999:\tlearn: 0.4054124\ttotal: 5.5s\tremaining: 0us\n"
          ]
        }
      ],
      "source": [
        "catb = CatBoostClassifier().fit(X_train,y_train)\n",
        "y_pred = catb.predict(X_test)\n",
        "algorithms[\"CatBoost\"] = accuracy_score(y_test,y_pred)"
      ]
    },
    {
      "cell_type": "code",
      "execution_count": null,
      "id": "79624bdc",
      "metadata": {
        "execution": {
          "iopub.execute_input": "2021-08-15T09:49:47.720654Z",
          "iopub.status.busy": "2021-08-15T09:49:47.719640Z",
          "iopub.status.idle": "2021-08-15T09:49:47.725845Z",
          "shell.execute_reply": "2021-08-15T09:49:47.724811Z",
          "shell.execute_reply.started": "2021-08-15T09:14:37.226601Z"
        },
        "papermill": {
          "duration": 0.067846,
          "end_time": "2021-08-15T09:49:47.726062",
          "exception": false,
          "start_time": "2021-08-15T09:49:47.658216",
          "status": "completed"
        },
        "tags": [],
        "colab": {
          "base_uri": "https://localhost:8080/"
        },
        "id": "79624bdc",
        "outputId": "4c47b7b3-3d42-4c16-c83a-b9b6ef779c88"
      },
      "outputs": [
        {
          "output_type": "stream",
          "name": "stdout",
          "text": [
            "Accuracy Score: 0.75\n"
          ]
        }
      ],
      "source": [
        "print(\"Accuracy Score:\", accuracy_score(y_test,y_pred))"
      ]
    },
    {
      "cell_type": "markdown",
      "id": "d045c034",
      "metadata": {
        "papermill": {
          "duration": 0.056514,
          "end_time": "2021-08-15T09:49:47.838794",
          "exception": false,
          "start_time": "2021-08-15T09:49:47.782280",
          "status": "completed"
        },
        "tags": [],
        "id": "d045c034"
      },
      "source": [
        "\n",
        "\n",
        "#### CatBoost: Model Tuning"
      ]
    },
    {
      "cell_type": "code",
      "execution_count": null,
      "id": "2a40107d",
      "metadata": {
        "_kg_hide-output": true,
        "execution": {
          "iopub.execute_input": "2021-08-15T09:49:47.956972Z",
          "iopub.status.busy": "2021-08-15T09:49:47.956306Z",
          "iopub.status.idle": "2021-08-15T09:50:49.926879Z",
          "shell.execute_reply": "2021-08-15T09:50:49.927391Z",
          "shell.execute_reply.started": "2021-08-15T09:14:37.234168Z"
        },
        "papermill": {
          "duration": 62.033676,
          "end_time": "2021-08-15T09:50:49.927605",
          "exception": false,
          "start_time": "2021-08-15T09:49:47.893929",
          "status": "completed"
        },
        "tags": [],
        "colab": {
          "base_uri": "https://localhost:8080/"
        },
        "id": "2a40107d",
        "outputId": "65b9be2e-0562-4fb8-871c-7e612b1d9163"
      },
      "outputs": [
        {
          "output_type": "stream",
          "name": "stdout",
          "text": [
            "Fitting 2 folds for each of 27 candidates, totalling 54 fits\n"
          ]
        }
      ],
      "source": [
        "catb = CatBoostClassifier()\n",
        "\n",
        "catb_params = {\"learning_rate\":[0.01,0.03,0.1],\n",
        "              \"iterations\":[100,200,500],\n",
        "              \"depth\":[4,5,8]}\n",
        "\n",
        "catb_cv_model = GridSearchCV(catb, catb_params, cv=2, n_jobs=-1,verbose=2).fit(X_train,y_train,verbose=False)"
      ]
    },
    {
      "cell_type": "code",
      "execution_count": null,
      "id": "d6ba208f",
      "metadata": {
        "execution": {
          "iopub.execute_input": "2021-08-15T09:50:50.053131Z",
          "iopub.status.busy": "2021-08-15T09:50:50.052485Z",
          "iopub.status.idle": "2021-08-15T09:50:50.055639Z",
          "shell.execute_reply": "2021-08-15T09:50:50.056080Z",
          "shell.execute_reply.started": "2021-08-15T09:16:09.545525Z"
        },
        "papermill": {
          "duration": 0.067952,
          "end_time": "2021-08-15T09:50:50.056264",
          "exception": false,
          "start_time": "2021-08-15T09:50:49.988312",
          "status": "completed"
        },
        "tags": [],
        "colab": {
          "base_uri": "https://localhost:8080/"
        },
        "id": "d6ba208f",
        "outputId": "5c193efb-aa95-4bd0-b843-62b64cca84a4"
      },
      "outputs": [
        {
          "output_type": "execute_result",
          "data": {
            "text/plain": [
              "{'depth': 4, 'iterations': 500, 'learning_rate': 0.1}"
            ]
          },
          "metadata": {},
          "execution_count": 194
        }
      ],
      "source": [
        "catb_cv_model.best_params_"
      ]
    },
    {
      "cell_type": "code",
      "execution_count": null,
      "id": "6f3b2b0b",
      "metadata": {
        "execution": {
          "iopub.execute_input": "2021-08-15T09:50:50.173335Z",
          "iopub.status.busy": "2021-08-15T09:50:50.172656Z",
          "iopub.status.idle": "2021-08-15T09:50:50.179221Z",
          "shell.execute_reply": "2021-08-15T09:50:50.178074Z",
          "shell.execute_reply.started": "2021-08-15T09:16:09.554953Z"
        },
        "papermill": {
          "duration": 0.06721,
          "end_time": "2021-08-15T09:50:50.179438",
          "exception": false,
          "start_time": "2021-08-15T09:50:50.112228",
          "status": "completed"
        },
        "tags": [],
        "colab": {
          "base_uri": "https://localhost:8080/"
        },
        "id": "6f3b2b0b",
        "outputId": "946a1b3f-e8d4-4e72-be4a-2e9cf7b10c49"
      },
      "outputs": [
        {
          "output_type": "execute_result",
          "data": {
            "text/plain": [
              "0.75875"
            ]
          },
          "metadata": {},
          "execution_count": 195
        }
      ],
      "source": [
        "catb_cv_model.best_score_"
      ]
    },
    {
      "cell_type": "code",
      "execution_count": null,
      "id": "a8d62e17",
      "metadata": {
        "execution": {
          "iopub.execute_input": "2021-08-15T09:50:50.704017Z",
          "iopub.status.busy": "2021-08-15T09:50:50.702996Z",
          "iopub.status.idle": "2021-08-15T09:50:51.664059Z",
          "shell.execute_reply": "2021-08-15T09:50:51.663568Z",
          "shell.execute_reply.started": "2021-08-15T09:16:09.566375Z"
        },
        "papermill": {
          "duration": 1.425679,
          "end_time": "2021-08-15T09:50:51.664220",
          "exception": false,
          "start_time": "2021-08-15T09:50:50.238541",
          "status": "completed"
        },
        "tags": [],
        "id": "a8d62e17"
      },
      "outputs": [],
      "source": [
        "catb_tuned = CatBoostClassifier(learning_rate=catb_cv_model.best_params_[\"learning_rate\"],\n",
        "                           iterations=catb_cv_model.best_params_[\"iterations\"],\n",
        "                           depth=catb_cv_model.best_params_[\"depth\"]).fit(X_train,y_train,verbose=False)\n",
        "\n",
        "y_pred = catb_tuned.predict(X_test)"
      ]
    },
    {
      "cell_type": "code",
      "source": [
        "y_pred"
      ],
      "metadata": {
        "colab": {
          "base_uri": "https://localhost:8080/"
        },
        "id": "4RjNEthnbPPw",
        "outputId": "029ea789-9971-43a5-c57e-6201b4e1f627"
      },
      "id": "4RjNEthnbPPw",
      "execution_count": null,
      "outputs": [
        {
          "output_type": "execute_result",
          "data": {
            "text/plain": [
              "array([0, 0, 0, 0, 0, 0, 1, 0, 0, 1, 1, 1, 0, 1, 1, 1, 0, 0, 0, 1, 0, 0,\n",
              "       1, 0, 0, 1, 0, 1, 1, 1, 0, 1, 0, 0, 1, 0, 0, 0, 0, 1, 1, 1, 0, 0,\n",
              "       0, 0, 0, 1, 0, 0, 1, 1, 0, 1, 0, 0, 0, 0, 0, 1, 0, 0, 0, 0, 1, 0,\n",
              "       0, 0, 0, 0, 1, 1, 0, 0, 0, 0, 0, 1, 0, 1, 0, 1, 1, 0, 1, 1, 0, 0,\n",
              "       1, 0, 0, 1, 0, 0, 0, 0, 0, 0, 0, 1, 0, 1, 1, 1, 0, 0, 0, 1, 0, 0,\n",
              "       0, 0, 0, 1, 0, 0, 1, 0, 1, 1, 0, 0, 1, 1, 0, 0, 0, 0, 0, 0, 0, 1,\n",
              "       0, 0, 1, 1, 1, 1, 1, 0, 1, 1, 1, 0, 0, 0, 0, 0, 0, 0, 0, 0, 1, 1,\n",
              "       0, 0, 1, 0, 1, 1, 0, 0, 1, 0, 1, 0, 0, 0, 0, 0, 0, 1, 1, 0, 0, 1,\n",
              "       0, 1, 0, 1, 1, 0, 0, 0, 0, 0, 0, 1, 0, 1, 1, 0, 0, 0, 0, 0, 1, 1,\n",
              "       0, 0])"
            ]
          },
          "metadata": {},
          "execution_count": 197
        }
      ]
    },
    {
      "cell_type": "code",
      "execution_count": null,
      "id": "48d9a54f",
      "metadata": {
        "execution": {
          "iopub.execute_input": "2021-08-15T09:50:51.784051Z",
          "iopub.status.busy": "2021-08-15T09:50:51.783182Z",
          "iopub.status.idle": "2021-08-15T09:50:51.787568Z",
          "shell.execute_reply": "2021-08-15T09:50:51.788035Z",
          "shell.execute_reply.started": "2021-08-15T09:16:11.468546Z"
        },
        "papermill": {
          "duration": 0.066911,
          "end_time": "2021-08-15T09:50:51.788222",
          "exception": false,
          "start_time": "2021-08-15T09:50:51.721311",
          "status": "completed"
        },
        "tags": [],
        "colab": {
          "base_uri": "https://localhost:8080/"
        },
        "id": "48d9a54f",
        "outputId": "eb93f55c-7fab-43e4-aadd-01b4badd1af5"
      },
      "outputs": [
        {
          "output_type": "stream",
          "name": "stdout",
          "text": [
            "Accuracy Score: 0.755\n"
          ]
        }
      ],
      "source": [
        "algorithms[\"CatBoost_Tuned\"] = accuracy_score(y_test,y_pred)\n",
        "print(\"Accuracy Score:\", accuracy_score(y_test,y_pred))"
      ]
    },
    {
      "cell_type": "code",
      "execution_count": null,
      "id": "ede26723",
      "metadata": {
        "execution": {
          "iopub.execute_input": "2021-08-15T09:50:51.906549Z",
          "iopub.status.busy": "2021-08-15T09:50:51.905579Z",
          "iopub.status.idle": "2021-08-15T09:50:51.915137Z",
          "shell.execute_reply": "2021-08-15T09:50:51.913867Z",
          "shell.execute_reply.started": "2021-08-15T09:16:11.479022Z"
        },
        "papermill": {
          "duration": 0.071021,
          "end_time": "2021-08-15T09:50:51.915336",
          "exception": false,
          "start_time": "2021-08-15T09:50:51.844315",
          "status": "completed"
        },
        "tags": [],
        "colab": {
          "base_uri": "https://localhost:8080/"
        },
        "id": "ede26723",
        "outputId": "f1a595f9-f48c-422f-81ea-b8747291ecdf"
      },
      "outputs": [
        {
          "output_type": "stream",
          "name": "stdout",
          "text": [
            "              precision    recall  f1-score   support\n",
            "\n",
            "           0       0.69      0.91      0.78        97\n",
            "           1       0.88      0.61      0.72       103\n",
            "\n",
            "    accuracy                           0.76       200\n",
            "   macro avg       0.78      0.76      0.75       200\n",
            "weighted avg       0.78      0.76      0.75       200\n",
            "\n"
          ]
        }
      ],
      "source": [
        "print(classification_report(y_test,y_pred))"
      ]
    },
    {
      "cell_type": "code",
      "source": [
        "def trans(data,vocab):\n",
        "  revie = []\n",
        "  for i in range(len(data)):\n",
        "    review = re.sub(\"[^a-zA-Z]\",\" \",data[i])\n",
        "    review = review.lower()\n",
        "    review = review.split()\n",
        "    review = [ps.stem(word) for word in review if not word in str(stopwords.words(\"english\"))]\n",
        "    revie.append(\" \".join(review))\n",
        "  cv_predict = CountVectorizer(vocabulary=vocab)\n",
        "  X = cv_predict.fit_transform(revie).toarray()\n",
        "  return X"
      ],
      "metadata": {
        "id": "uPub5bC9bZUA"
      },
      "id": "uPub5bC9bZUA",
      "execution_count": null,
      "outputs": []
    },
    {
      "cell_type": "code",
      "source": [
        "import pickle\n",
        "with open('your_model.pkl', 'wb') as file:\n",
        "    pickle.dump((catb_tuned, vocab,trans), file)"
      ],
      "metadata": {
        "id": "e-6yzHiBl0St"
      },
      "id": "e-6yzHiBl0St",
      "execution_count": null,
      "outputs": []
    },
    {
      "cell_type": "code",
      "source": [
        "res = [\"Wow... Loved this place.\",\"Crust is not good.\",\"Stopped by during the late May bank holiday of...\"]"
      ],
      "metadata": {
        "id": "PiBePn9ocy4d"
      },
      "id": "PiBePn9ocy4d",
      "execution_count": null,
      "outputs": []
    },
    {
      "cell_type": "code",
      "source": [
        "cv_predict = CountVectorizer(vocabulary=vocab)\n",
        "X = cv_predict.fit_transform(revie).toarray()"
      ],
      "metadata": {
        "id": "esHQVVVBdwGk"
      },
      "id": "esHQVVVBdwGk",
      "execution_count": null,
      "outputs": []
    },
    {
      "cell_type": "code",
      "source": [
        "X"
      ],
      "metadata": {
        "colab": {
          "base_uri": "https://localhost:8080/"
        },
        "id": "k4HS_BvVdw9Q",
        "outputId": "1180a9b2-cdb6-4444-cd5f-e36f8f0aeec8"
      },
      "id": "k4HS_BvVdw9Q",
      "execution_count": null,
      "outputs": [
        {
          "output_type": "execute_result",
          "data": {
            "text/plain": [
              "array([[0, 0, 0, ..., 0, 0, 0],\n",
              "       [0, 0, 0, ..., 0, 0, 0],\n",
              "       [0, 0, 0, ..., 0, 0, 0]])"
            ]
          },
          "metadata": {},
          "execution_count": 204
        }
      ]
    },
    {
      "cell_type": "code",
      "source": [
        "X.shape"
      ],
      "metadata": {
        "colab": {
          "base_uri": "https://localhost:8080/"
        },
        "id": "tePyicRrjX-v",
        "outputId": "c162b793-9564-4add-9dc6-1b3bef16f4c6"
      },
      "id": "tePyicRrjX-v",
      "execution_count": null,
      "outputs": [
        {
          "output_type": "execute_result",
          "data": {
            "text/plain": [
              "(3, 1500)"
            ]
          },
          "metadata": {},
          "execution_count": 205
        }
      ]
    },
    {
      "cell_type": "code",
      "source": [
        "with open('your_model.pkl', 'rb') as file:\n",
        "    model, vocab,trans = pickle.load(file)\n",
        "X = trans(res,vocab)\n",
        "predictions = model.predict(X)\n",
        "predictions"
      ],
      "metadata": {
        "colab": {
          "base_uri": "https://localhost:8080/"
        },
        "id": "c5O2PDvomLtY",
        "outputId": "128403b3-bf86-4686-fd5f-cafea7311946"
      },
      "id": "c5O2PDvomLtY",
      "execution_count": null,
      "outputs": [
        {
          "output_type": "execute_result",
          "data": {
            "text/plain": [
              "array([1, 1, 0])"
            ]
          },
          "metadata": {},
          "execution_count": 215
        }
      ]
    },
    {
      "cell_type": "code",
      "source": [
        "cv_predict = CountVectorizer(vocabulary=vocab)\n",
        "predictions = model.predict(X)\n",
        "predictions"
      ],
      "metadata": {
        "colab": {
          "base_uri": "https://localhost:8080/"
        },
        "id": "kz69FschmMxf",
        "outputId": "d2ba24e3-558a-4069-ae75-069710128f23"
      },
      "id": "kz69FschmMxf",
      "execution_count": null,
      "outputs": [
        {
          "output_type": "execute_result",
          "data": {
            "text/plain": [
              "array([1, 1, 0])"
            ]
          },
          "metadata": {},
          "execution_count": 209
        }
      ]
    },
    {
      "cell_type": "code",
      "source": [],
      "metadata": {
        "id": "xELzQTCBmVBa"
      },
      "id": "xELzQTCBmVBa",
      "execution_count": null,
      "outputs": []
    }
  ],
  "metadata": {
    "kernelspec": {
      "display_name": "Python 3",
      "language": "python",
      "name": "python3"
    },
    "language_info": {
      "codemirror_mode": {
        "name": "ipython",
        "version": 3
      },
      "file_extension": ".py",
      "mimetype": "text/x-python",
      "name": "python",
      "nbconvert_exporter": "python",
      "pygments_lexer": "ipython3",
      "version": "3.7.10"
    },
    "papermill": {
      "default_parameters": {},
      "duration": 119.027886,
      "end_time": "2021-08-15T09:51:05.668457",
      "environment_variables": {},
      "exception": null,
      "input_path": "__notebook__.ipynb",
      "output_path": "__notebook__.ipynb",
      "parameters": {},
      "start_time": "2021-08-15T09:49:06.640571",
      "version": "2.3.3"
    },
    "colab": {
      "provenance": []
    }
  },
  "nbformat": 4,
  "nbformat_minor": 5
}